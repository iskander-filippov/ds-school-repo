{
 "cells": [
  {
   "cell_type": "markdown",
   "source": [
    "# Домашняя работа №1"
   ],
   "metadata": {
    "collapsed": false,
    "pycharm": {
     "name": "#%% md\n"
    }
   }
  },
  {
   "cell_type": "markdown",
   "source": [
    "## Подготовка"
   ],
   "metadata": {
    "collapsed": false,
    "pycharm": {
     "name": "#%% md\n"
    }
   }
  },
  {
   "cell_type": "code",
   "execution_count": 1,
   "outputs": [],
   "source": [
    "# импортируем необходимые библиотеки\n",
    "import pandas as pd\n",
    "import sqlite3\n",
    "import requests\n",
    "from tqdm import tqdm"
   ],
   "metadata": {
    "collapsed": false,
    "pycharm": {
     "name": "#%%\n"
    }
   }
  },
  {
   "cell_type": "code",
   "execution_count": 2,
   "outputs": [],
   "source": [
    "# задаём минимальное и минимальное число обьектов (подсмотрели на сайте) и шаг запросов\n",
    "min_obj = 1\n",
    "max_obj = 10534\n",
    "step = 1000"
   ],
   "metadata": {
    "collapsed": false,
    "pycharm": {
     "name": "#%%\n"
    }
   }
  },
  {
   "cell_type": "code",
   "execution_count": 3,
   "outputs": [],
   "source": [
    "# объявляем функцию, получающую порцию данных об объектах с offset по limit\n",
    "def get_chunk(off, lim):\n",
    "    url = f'https://xn--80az8a.xn--d1aqf.xn--p1ai/%D1%81%D0%B5%D1%80%D0%B2%D0%B8%D1%81%D1%8B/api/kn/object?offset={off}&limit={lim}&sortField=devId.devShortCleanNm&sortType=asc&objStatus=0'\n",
    "    res = requests.get(url)\n",
    "    objects_data = res.json()\n",
    "    objects_list = objects_data.get('data').get('list')\n",
    "    result = [obj.get('objId') for obj in objects_list]\n",
    "    return result"
   ],
   "metadata": {
    "collapsed": false,
    "pycharm": {
     "name": "#%%\n"
    }
   }
  },
  {
   "cell_type": "code",
   "execution_count": 4,
   "outputs": [],
   "source": [
    "# объявляем функцию, получающую данные о конкретном объекте\n",
    "def get_obj_info(obj_id):\n",
    "    res = requests.get(f'https://xn--80az8a.xn--d1aqf.xn--p1ai/%D1%81%D0%B5%D1%80%D0%B2%D0%B8%D1%81%D1%8B/api/object/{obj_id}')\n",
    "    return res.json()"
   ],
   "metadata": {
    "collapsed": false,
    "pycharm": {
     "name": "#%%\n"
    }
   }
  },
  {
   "cell_type": "markdown",
   "source": [
    "## Получение списка объектов"
   ],
   "metadata": {
    "collapsed": false,
    "pycharm": {
     "name": "#%% md\n"
    }
   }
  },
  {
   "cell_type": "code",
   "execution_count": 5,
   "outputs": [
    {
     "name": "stderr",
     "output_type": "stream",
     "text": [
      "100%|██████████| 11/11 [05:00<00:00, 27.36s/it]\n"
     ]
    }
   ],
   "source": [
    "# создаём пустой список объектов\n",
    "full_objects_list = []\n",
    "\n",
    "# в цикле получаем данные обо всех объектах порциями по 1000\n",
    "for offset_, limit_ in tqdm([\n",
    "    (min_obj + step * x, min_obj + step * (x + 1) if min_obj + step * (x + 1) <= max_obj else max_obj) for x in range(round(max_obj / step))\n",
    "]):\n",
    "    full_objects_list += get_chunk(offset_, limit_)"
   ],
   "metadata": {
    "collapsed": false,
    "pycharm": {
     "name": "#%%\n"
    }
   }
  },
  {
   "cell_type": "code",
   "execution_count": 6,
   "outputs": [],
   "source": [
    "# записываем полный список объектов на диск для дальнейшего использования\n",
    "with open('full_objects_list.txt', 'w', encoding='utf-8') as f:\n",
    "    f.writelines(set(str(obj)+'\\n' for obj in full_objects_list))"
   ],
   "metadata": {
    "collapsed": false,
    "pycharm": {
     "name": "#%%\n"
    }
   }
  },
  {
   "cell_type": "markdown",
   "source": [
    "## Получение данных обо всех объектах"
   ],
   "metadata": {
    "collapsed": false,
    "pycharm": {
     "name": "#%% md\n"
    }
   }
  },
  {
   "cell_type": "code",
   "execution_count": 7,
   "outputs": [],
   "source": [
    "# создаём пустой датафрейм для записи данных об объектах\n",
    "full_data = pd.DataFrame()"
   ],
   "metadata": {
    "collapsed": false,
    "pycharm": {
     "name": "#%%\n"
    }
   }
  },
  {
   "cell_type": "code",
   "execution_count": 8,
   "outputs": [
    {
     "name": "stderr",
     "output_type": "stream",
     "text": [
      "100%|██████████| 10534/10534 [38:09<00:00,  4.60it/s] \n"
     ]
    }
   ],
   "source": [
    "# в цикле добавляем к датафрейму сведения о каждом объекте\n",
    "for obj in tqdm(set(full_objects_list)):\n",
    "    temp = pd.json_normalize(get_obj_info(obj)['data'])\n",
    "    full_data = pd.concat(\n",
    "        [\n",
    "            full_data,\n",
    "            temp\n",
    "        ],\n",
    "        sort=False\n",
    "    ).reset_index(drop=True)"
   ],
   "metadata": {
    "collapsed": false,
    "pycharm": {
     "name": "#%%\n"
    }
   }
  },
  {
   "cell_type": "code",
   "execution_count": 9,
   "outputs": [
    {
     "data": {
      "text/plain": "      id    pdId  region                                            address  \\\n0  45592  543495      64         г Энгельс, ул Трудовая, д. 12, строение 1Г   \n1  32787  181636      16  г Набережные Челны, вдоль проспекта Яшьлек, бл...   \n2  32793  162963      50            г Красногорск, район Марьино, корпус 25   \n3  32849  167016      37        г Кохма, улица Ивановская, литера В, 5 этап   \n4  32873  141586      42  г Кемерово, бульвар Строителей, д. 60, корпус 4/1   \n5  32892  117906      50          с/п Павло-Слободское, улица Красная, д. 9   \n6  32893  117906      50          с/п Павло-Слободское, улица Красная, д. 9   \n7  32894  117906      50          с/п Павло-Слободское, улица Красная, д. 9   \n8  32895  153352      64  г Балаково, улица Титова, блок-секция В, 3-й э...   \n9  32897  162604      77  город Москва, улица Летная, вл. 95Б, блок-секц...   \n\n                         nameObj  floorMin  floorMax  objElemLivingCnt  \\\n0                  ЖК \"Рио\" д.1Г      25.0      25.0               154   \n1               ЖК \"Современный\"      12.0      13.0                99   \n2            Микрогород \"В лесу\"       9.0      13.0               545   \n3  Микрорайон \"Тихий Берег\", 004       8.0       8.0               183   \n4                            NaN      12.0      14.0               189   \n5             ЖК \"СКАЗКА\" дом 64       3.0       3.0                22   \n6             ЖК \"СКАЗКА\" дом 65       3.0       3.0                22   \n7             ЖК \"СКАЗКА\" дом 66       3.0       3.0                22   \n8                            NaN      11.0      11.0                43   \n9               Жилой район ALIA       2.0      27.0              1314   \n\n  objReady100PercDt wallMaterialShortDesc  ...  \\\n0        2024-09-30        Монолит-кирпич  ...   \n1        2022-12-31        Монолит-кирпич  ...   \n2        2023-03-31        Монолит-кирпич  ...   \n3        2022-12-31        Монолит-кирпич  ...   \n4        2022-12-31                Кирпич  ...   \n5        2022-12-31        Монолит-кирпич  ...   \n6        2022-12-31        Монолит-кирпич  ...   \n7        2022-12-31        Монолит-кирпич  ...   \n8        2022-06-30                Другое  ...   \n9        2023-06-30        Монолит-кирпич  ...   \n\n  developer.bankruptStage.bankruptStageDesc  \\\n0                                       NaN   \n1                                       NaN   \n2                                       NaN   \n3                                       NaN   \n4                                       NaN   \n5                                       NaN   \n6                                       NaN   \n7                                       NaN   \n8                                       NaN   \n9                                       NaN   \n\n  developer.bankruptStage.bankruptLawUrl  developer.orgBankruptMsgDttm  \\\n0                                    NaN                           NaN   \n1                                    NaN                           NaN   \n2                                    NaN                           NaN   \n3                                    NaN                           NaN   \n4                                    NaN                           NaN   \n5                                    NaN                           NaN   \n6                                    NaN                           NaN   \n7                                    NaN                           NaN   \n8                                    NaN                           NaN   \n9                                    NaN                           NaN   \n\n   metro.id metro.name metro.line metro.color metro.time metro.isWalk  \\\n0       NaN        NaN        NaN         NaN        NaN          NaN   \n1       NaN        NaN        NaN         NaN        NaN          NaN   \n2       NaN        NaN        NaN         NaN        NaN          NaN   \n3       NaN        NaN        NaN         NaN        NaN          NaN   \n4       NaN        NaN        NaN         NaN        NaN          NaN   \n5       NaN        NaN        NaN         NaN        NaN          NaN   \n6       NaN        NaN        NaN         NaN        NaN          NaN   \n7       NaN        NaN        NaN         NaN        NaN          NaN   \n8       NaN        NaN        NaN         NaN        NaN          NaN   \n9       NaN        NaN        NaN         NaN        NaN          NaN   \n\n   metro.colors  \n0           NaN  \n1           NaN  \n2           NaN  \n3           NaN  \n4           NaN  \n5           NaN  \n6           NaN  \n7           NaN  \n8           NaN  \n9           NaN  \n\n[10 rows x 108 columns]",
      "text/html": "<div>\n<style scoped>\n    .dataframe tbody tr th:only-of-type {\n        vertical-align: middle;\n    }\n\n    .dataframe tbody tr th {\n        vertical-align: top;\n    }\n\n    .dataframe thead th {\n        text-align: right;\n    }\n</style>\n<table border=\"1\" class=\"dataframe\">\n  <thead>\n    <tr style=\"text-align: right;\">\n      <th></th>\n      <th>id</th>\n      <th>pdId</th>\n      <th>region</th>\n      <th>address</th>\n      <th>nameObj</th>\n      <th>floorMin</th>\n      <th>floorMax</th>\n      <th>objElemLivingCnt</th>\n      <th>objReady100PercDt</th>\n      <th>wallMaterialShortDesc</th>\n      <th>...</th>\n      <th>developer.bankruptStage.bankruptStageDesc</th>\n      <th>developer.bankruptStage.bankruptLawUrl</th>\n      <th>developer.orgBankruptMsgDttm</th>\n      <th>metro.id</th>\n      <th>metro.name</th>\n      <th>metro.line</th>\n      <th>metro.color</th>\n      <th>metro.time</th>\n      <th>metro.isWalk</th>\n      <th>metro.colors</th>\n    </tr>\n  </thead>\n  <tbody>\n    <tr>\n      <th>0</th>\n      <td>45592</td>\n      <td>543495</td>\n      <td>64</td>\n      <td>г Энгельс, ул Трудовая, д. 12, строение 1Г</td>\n      <td>ЖК \"Рио\" д.1Г</td>\n      <td>25.0</td>\n      <td>25.0</td>\n      <td>154</td>\n      <td>2024-09-30</td>\n      <td>Монолит-кирпич</td>\n      <td>...</td>\n      <td>NaN</td>\n      <td>NaN</td>\n      <td>NaN</td>\n      <td>NaN</td>\n      <td>NaN</td>\n      <td>NaN</td>\n      <td>NaN</td>\n      <td>NaN</td>\n      <td>NaN</td>\n      <td>NaN</td>\n    </tr>\n    <tr>\n      <th>1</th>\n      <td>32787</td>\n      <td>181636</td>\n      <td>16</td>\n      <td>г Набережные Челны, вдоль проспекта Яшьлек, бл...</td>\n      <td>ЖК \"Современный\"</td>\n      <td>12.0</td>\n      <td>13.0</td>\n      <td>99</td>\n      <td>2022-12-31</td>\n      <td>Монолит-кирпич</td>\n      <td>...</td>\n      <td>NaN</td>\n      <td>NaN</td>\n      <td>NaN</td>\n      <td>NaN</td>\n      <td>NaN</td>\n      <td>NaN</td>\n      <td>NaN</td>\n      <td>NaN</td>\n      <td>NaN</td>\n      <td>NaN</td>\n    </tr>\n    <tr>\n      <th>2</th>\n      <td>32793</td>\n      <td>162963</td>\n      <td>50</td>\n      <td>г Красногорск, район Марьино, корпус 25</td>\n      <td>Микрогород \"В лесу\"</td>\n      <td>9.0</td>\n      <td>13.0</td>\n      <td>545</td>\n      <td>2023-03-31</td>\n      <td>Монолит-кирпич</td>\n      <td>...</td>\n      <td>NaN</td>\n      <td>NaN</td>\n      <td>NaN</td>\n      <td>NaN</td>\n      <td>NaN</td>\n      <td>NaN</td>\n      <td>NaN</td>\n      <td>NaN</td>\n      <td>NaN</td>\n      <td>NaN</td>\n    </tr>\n    <tr>\n      <th>3</th>\n      <td>32849</td>\n      <td>167016</td>\n      <td>37</td>\n      <td>г Кохма, улица Ивановская, литера В, 5 этап</td>\n      <td>Микрорайон \"Тихий Берег\", 004</td>\n      <td>8.0</td>\n      <td>8.0</td>\n      <td>183</td>\n      <td>2022-12-31</td>\n      <td>Монолит-кирпич</td>\n      <td>...</td>\n      <td>NaN</td>\n      <td>NaN</td>\n      <td>NaN</td>\n      <td>NaN</td>\n      <td>NaN</td>\n      <td>NaN</td>\n      <td>NaN</td>\n      <td>NaN</td>\n      <td>NaN</td>\n      <td>NaN</td>\n    </tr>\n    <tr>\n      <th>4</th>\n      <td>32873</td>\n      <td>141586</td>\n      <td>42</td>\n      <td>г Кемерово, бульвар Строителей, д. 60, корпус 4/1</td>\n      <td>NaN</td>\n      <td>12.0</td>\n      <td>14.0</td>\n      <td>189</td>\n      <td>2022-12-31</td>\n      <td>Кирпич</td>\n      <td>...</td>\n      <td>NaN</td>\n      <td>NaN</td>\n      <td>NaN</td>\n      <td>NaN</td>\n      <td>NaN</td>\n      <td>NaN</td>\n      <td>NaN</td>\n      <td>NaN</td>\n      <td>NaN</td>\n      <td>NaN</td>\n    </tr>\n    <tr>\n      <th>5</th>\n      <td>32892</td>\n      <td>117906</td>\n      <td>50</td>\n      <td>с/п Павло-Слободское, улица Красная, д. 9</td>\n      <td>ЖК \"СКАЗКА\" дом 64</td>\n      <td>3.0</td>\n      <td>3.0</td>\n      <td>22</td>\n      <td>2022-12-31</td>\n      <td>Монолит-кирпич</td>\n      <td>...</td>\n      <td>NaN</td>\n      <td>NaN</td>\n      <td>NaN</td>\n      <td>NaN</td>\n      <td>NaN</td>\n      <td>NaN</td>\n      <td>NaN</td>\n      <td>NaN</td>\n      <td>NaN</td>\n      <td>NaN</td>\n    </tr>\n    <tr>\n      <th>6</th>\n      <td>32893</td>\n      <td>117906</td>\n      <td>50</td>\n      <td>с/п Павло-Слободское, улица Красная, д. 9</td>\n      <td>ЖК \"СКАЗКА\" дом 65</td>\n      <td>3.0</td>\n      <td>3.0</td>\n      <td>22</td>\n      <td>2022-12-31</td>\n      <td>Монолит-кирпич</td>\n      <td>...</td>\n      <td>NaN</td>\n      <td>NaN</td>\n      <td>NaN</td>\n      <td>NaN</td>\n      <td>NaN</td>\n      <td>NaN</td>\n      <td>NaN</td>\n      <td>NaN</td>\n      <td>NaN</td>\n      <td>NaN</td>\n    </tr>\n    <tr>\n      <th>7</th>\n      <td>32894</td>\n      <td>117906</td>\n      <td>50</td>\n      <td>с/п Павло-Слободское, улица Красная, д. 9</td>\n      <td>ЖК \"СКАЗКА\" дом 66</td>\n      <td>3.0</td>\n      <td>3.0</td>\n      <td>22</td>\n      <td>2022-12-31</td>\n      <td>Монолит-кирпич</td>\n      <td>...</td>\n      <td>NaN</td>\n      <td>NaN</td>\n      <td>NaN</td>\n      <td>NaN</td>\n      <td>NaN</td>\n      <td>NaN</td>\n      <td>NaN</td>\n      <td>NaN</td>\n      <td>NaN</td>\n      <td>NaN</td>\n    </tr>\n    <tr>\n      <th>8</th>\n      <td>32895</td>\n      <td>153352</td>\n      <td>64</td>\n      <td>г Балаково, улица Титова, блок-секция В, 3-й э...</td>\n      <td>NaN</td>\n      <td>11.0</td>\n      <td>11.0</td>\n      <td>43</td>\n      <td>2022-06-30</td>\n      <td>Другое</td>\n      <td>...</td>\n      <td>NaN</td>\n      <td>NaN</td>\n      <td>NaN</td>\n      <td>NaN</td>\n      <td>NaN</td>\n      <td>NaN</td>\n      <td>NaN</td>\n      <td>NaN</td>\n      <td>NaN</td>\n      <td>NaN</td>\n    </tr>\n    <tr>\n      <th>9</th>\n      <td>32897</td>\n      <td>162604</td>\n      <td>77</td>\n      <td>город Москва, улица Летная, вл. 95Б, блок-секц...</td>\n      <td>Жилой район ALIA</td>\n      <td>2.0</td>\n      <td>27.0</td>\n      <td>1314</td>\n      <td>2023-06-30</td>\n      <td>Монолит-кирпич</td>\n      <td>...</td>\n      <td>NaN</td>\n      <td>NaN</td>\n      <td>NaN</td>\n      <td>NaN</td>\n      <td>NaN</td>\n      <td>NaN</td>\n      <td>NaN</td>\n      <td>NaN</td>\n      <td>NaN</td>\n      <td>NaN</td>\n    </tr>\n  </tbody>\n</table>\n<p>10 rows × 108 columns</p>\n</div>"
     },
     "metadata": {},
     "output_type": "display_data"
    }
   ],
   "source": [
    "# смотрим, что всё в порядке\n",
    "display(full_data.head(10))"
   ],
   "metadata": {
    "collapsed": false,
    "pycharm": {
     "name": "#%%\n"
    }
   }
  },
  {
   "cell_type": "markdown",
   "source": [
    "## Сохранение данных"
   ],
   "metadata": {
    "collapsed": false,
    "pycharm": {
     "name": "#%% md\n"
    }
   }
  },
  {
   "cell_type": "code",
   "execution_count": 10,
   "outputs": [],
   "source": [
    "# записываем в excel\n",
    "full_data.to_excel('full_data.xlsx', index=False)"
   ],
   "metadata": {
    "collapsed": false,
    "pycharm": {
     "name": "#%%\n"
    }
   }
  },
  {
   "cell_type": "code",
   "execution_count": 11,
   "outputs": [],
   "source": [
    "# записываем в pickle\n",
    "full_data.to_pickle('full_data.pickle')"
   ],
   "metadata": {
    "collapsed": false,
    "pycharm": {
     "name": "#%%\n"
    }
   }
  },
  {
   "cell_type": "code",
   "execution_count": 12,
   "outputs": [],
   "source": [
    "# записываем в БД\n",
    "conn =  sqlite3.connect('test_database')\n",
    "full_data.applymap(lambda c: str(c)).to_sql('products', conn, if_exists='replace', index = False, chunksize=1000)\n",
    "conn.commit()\n",
    "conn.close()"
   ],
   "metadata": {
    "collapsed": false,
    "pycharm": {
     "name": "#%%\n"
    }
   }
  },
  {
   "cell_type": "markdown",
   "source": [
    "## Задание со *"
   ],
   "metadata": {
    "collapsed": false,
    "pycharm": {
     "name": "#%% md\n"
    }
   }
  },
  {
   "cell_type": "code",
   "execution_count": 13,
   "outputs": [],
   "source": [
    "# импортируем необходимые библиотеки\n",
    "from bs4 import BeautifulSoup\n",
    "import os"
   ],
   "metadata": {
    "collapsed": false,
    "pycharm": {
     "name": "#%%\n"
    }
   }
  },
  {
   "cell_type": "code",
   "execution_count": 14,
   "outputs": [],
   "source": [
    "# объявляем функцию для получения изображений объекта\n",
    "def get_images(obj):\n",
    "    # загружаем страницу - описание объекта\n",
    "    response = requests.get(f'https://наш.дом.рф/сервисы/каталог-новостроек/объект/{obj}')\n",
    "\n",
    "    # создаём парсер HTML\n",
    "    soup = BeautifulSoup(response.text, 'html.parser')\n",
    "\n",
    "    # если в HTML-коде страницы (установлено путём исследования кода) есть тег <div> с классом swiper-slide,\n",
    "    # значит на странице есть фотогалерея объекта и есть, что сохранять\n",
    "    if soup.find_all('div', class_='swiper-slide'):\n",
    "        # задаём начальное значение счётчика фото\n",
    "        counter = 0\n",
    "\n",
    "        # создаём папку с номером объекта, куда будем класть фото\n",
    "        os.mkdir(f'{obj}')\n",
    "\n",
    "        # в цикле находим все теги <img>, получаем их атрибут src и загружаем изображения, используя src как url на диск\n",
    "        for d in soup.find_all('div', class_='swiper-slide'):\n",
    "            url = d.img['src']\n",
    "            response = requests.get(url)\n",
    "            if response.status_code == 200:\n",
    "                with open(f'{obj}\\\\{obj}_{counter}.jpg', 'wb') as img_f:\n",
    "                    img_f.write(response.content)\n",
    "                counter +=1\n",
    "\n",
    "        # выводим, сколько изображений успешно скачали\n",
    "        return f\"DOWNLOADED {counter} IMAGES ON OBJECT'S #{obj} PAGE\"\n",
    "\n",
    "    # если галереи на странице нет, пишем, что фото не будет\n",
    "    else:\n",
    "        return f\"NO IMAGES ON OBJECT'S #{obj} PAGE\""
   ],
   "metadata": {
    "collapsed": false,
    "pycharm": {
     "name": "#%%\n"
    }
   }
  },
  {
   "cell_type": "code",
   "execution_count": 15,
   "outputs": [
    {
     "name": "stderr",
     "output_type": "stream",
     "text": [
      "  1%|          | 1/100 [00:05<08:28,  5.14s/it]"
     ]
    },
    {
     "name": "stdout",
     "output_type": "stream",
     "text": [
      "DOWNLOADED 2 IMAGES ON OBJECT'S #45592 PAGE\n"
     ]
    },
    {
     "name": "stderr",
     "output_type": "stream",
     "text": [
      "  2%|▏         | 2/100 [00:05<04:14,  2.59s/it]"
     ]
    },
    {
     "name": "stdout",
     "output_type": "stream",
     "text": [
      "DOWNLOADED 2 IMAGES ON OBJECT'S #32787 PAGE\n"
     ]
    },
    {
     "name": "stderr",
     "output_type": "stream",
     "text": [
      "  3%|▎         | 3/100 [00:09<04:35,  2.84s/it]"
     ]
    },
    {
     "name": "stdout",
     "output_type": "stream",
     "text": [
      "DOWNLOADED 3 IMAGES ON OBJECT'S #32793 PAGE\n"
     ]
    },
    {
     "name": "stderr",
     "output_type": "stream",
     "text": [
      "  4%|▍         | 4/100 [00:13<05:27,  3.41s/it]"
     ]
    },
    {
     "name": "stdout",
     "output_type": "stream",
     "text": [
      "DOWNLOADED 1 IMAGES ON OBJECT'S #32849 PAGE\n"
     ]
    },
    {
     "name": "stderr",
     "output_type": "stream",
     "text": [
      "  5%|▌         | 5/100 [00:14<04:08,  2.62s/it]"
     ]
    },
    {
     "name": "stdout",
     "output_type": "stream",
     "text": [
      "DOWNLOADED 2 IMAGES ON OBJECT'S #32873 PAGE\n"
     ]
    },
    {
     "name": "stderr",
     "output_type": "stream",
     "text": [
      "  6%|▌         | 6/100 [00:15<03:06,  1.98s/it]"
     ]
    },
    {
     "name": "stdout",
     "output_type": "stream",
     "text": [
      "DOWNLOADED 1 IMAGES ON OBJECT'S #32892 PAGE\n"
     ]
    },
    {
     "name": "stderr",
     "output_type": "stream",
     "text": [
      "  7%|▋         | 7/100 [00:15<02:22,  1.54s/it]"
     ]
    },
    {
     "name": "stdout",
     "output_type": "stream",
     "text": [
      "DOWNLOADED 1 IMAGES ON OBJECT'S #32893 PAGE\n"
     ]
    },
    {
     "name": "stderr",
     "output_type": "stream",
     "text": [
      "  8%|▊         | 8/100 [00:16<01:55,  1.25s/it]"
     ]
    },
    {
     "name": "stdout",
     "output_type": "stream",
     "text": [
      "DOWNLOADED 1 IMAGES ON OBJECT'S #32894 PAGE\n"
     ]
    },
    {
     "name": "stderr",
     "output_type": "stream",
     "text": [
      "  9%|▉         | 9/100 [00:30<07:41,  5.08s/it]"
     ]
    },
    {
     "name": "stdout",
     "output_type": "stream",
     "text": [
      "DOWNLOADED 5 IMAGES ON OBJECT'S #32895 PAGE\n"
     ]
    },
    {
     "name": "stderr",
     "output_type": "stream",
     "text": [
      " 10%|█         | 10/100 [00:30<05:35,  3.73s/it]"
     ]
    },
    {
     "name": "stdout",
     "output_type": "stream",
     "text": [
      "DOWNLOADED 1 IMAGES ON OBJECT'S #32897 PAGE\n"
     ]
    },
    {
     "name": "stderr",
     "output_type": "stream",
     "text": [
      " 11%|█         | 11/100 [00:37<06:52,  4.64s/it]"
     ]
    },
    {
     "name": "stdout",
     "output_type": "stream",
     "text": [
      "DOWNLOADED 3 IMAGES ON OBJECT'S #32898 PAGE\n"
     ]
    },
    {
     "name": "stderr",
     "output_type": "stream",
     "text": [
      " 12%|█▏        | 12/100 [00:49<10:01,  6.84s/it]"
     ]
    },
    {
     "name": "stdout",
     "output_type": "stream",
     "text": [
      "DOWNLOADED 13 IMAGES ON OBJECT'S #32900 PAGE\n"
     ]
    },
    {
     "name": "stderr",
     "output_type": "stream",
     "text": [
      " 13%|█▎        | 13/100 [00:59<11:16,  7.78s/it]"
     ]
    },
    {
     "name": "stdout",
     "output_type": "stream",
     "text": [
      "DOWNLOADED 3 IMAGES ON OBJECT'S #32901 PAGE\n"
     ]
    },
    {
     "name": "stderr",
     "output_type": "stream",
     "text": [
      " 14%|█▍        | 14/100 [01:08<11:36,  8.10s/it]"
     ]
    },
    {
     "name": "stdout",
     "output_type": "stream",
     "text": [
      "DOWNLOADED 2 IMAGES ON OBJECT'S #32926 PAGE\n"
     ]
    },
    {
     "name": "stderr",
     "output_type": "stream",
     "text": [
      " 15%|█▌        | 15/100 [01:13<10:17,  7.26s/it]"
     ]
    },
    {
     "name": "stdout",
     "output_type": "stream",
     "text": [
      "DOWNLOADED 2 IMAGES ON OBJECT'S #32937 PAGE\n"
     ]
    },
    {
     "name": "stderr",
     "output_type": "stream",
     "text": [
      " 16%|█▌        | 16/100 [01:18<09:18,  6.65s/it]"
     ]
    },
    {
     "name": "stdout",
     "output_type": "stream",
     "text": [
      "DOWNLOADED 2 IMAGES ON OBJECT'S #32938 PAGE\n"
     ]
    },
    {
     "name": "stderr",
     "output_type": "stream",
     "text": [
      " 17%|█▋        | 17/100 [01:22<07:52,  5.69s/it]"
     ]
    },
    {
     "name": "stdout",
     "output_type": "stream",
     "text": [
      "DOWNLOADED 1 IMAGES ON OBJECT'S #33004 PAGE\n"
     ]
    },
    {
     "name": "stderr",
     "output_type": "stream",
     "text": [
      " 18%|█▊        | 18/100 [01:25<06:48,  4.98s/it]"
     ]
    },
    {
     "name": "stdout",
     "output_type": "stream",
     "text": [
      "DOWNLOADED 1 IMAGES ON OBJECT'S #33005 PAGE\n"
     ]
    },
    {
     "name": "stderr",
     "output_type": "stream",
     "text": [
      " 19%|█▉        | 19/100 [01:29<06:19,  4.69s/it]"
     ]
    },
    {
     "name": "stdout",
     "output_type": "stream",
     "text": [
      "DOWNLOADED 1 IMAGES ON OBJECT'S #33006 PAGE\n"
     ]
    },
    {
     "name": "stderr",
     "output_type": "stream",
     "text": [
      " 20%|██        | 20/100 [01:30<04:56,  3.70s/it]"
     ]
    },
    {
     "name": "stdout",
     "output_type": "stream",
     "text": [
      "DOWNLOADED 1 IMAGES ON OBJECT'S #33019 PAGE\n"
     ]
    },
    {
     "name": "stderr",
     "output_type": "stream",
     "text": [
      " 21%|██        | 21/100 [01:31<03:48,  2.89s/it]"
     ]
    },
    {
     "name": "stdout",
     "output_type": "stream",
     "text": [
      "DOWNLOADED 1 IMAGES ON OBJECT'S #33020 PAGE\n"
     ]
    },
    {
     "name": "stderr",
     "output_type": "stream",
     "text": [
      " 22%|██▏       | 22/100 [01:35<03:58,  3.06s/it]"
     ]
    },
    {
     "name": "stdout",
     "output_type": "stream",
     "text": [
      "DOWNLOADED 2 IMAGES ON OBJECT'S #33021 PAGE\n"
     ]
    },
    {
     "name": "stderr",
     "output_type": "stream",
     "text": [
      " 23%|██▎       | 23/100 [01:36<03:00,  2.34s/it]"
     ]
    },
    {
     "name": "stdout",
     "output_type": "stream",
     "text": [
      "DOWNLOADED 1 IMAGES ON OBJECT'S #33022 PAGE\n"
     ]
    },
    {
     "name": "stderr",
     "output_type": "stream",
     "text": [
      " 24%|██▍       | 24/100 [01:36<02:24,  1.90s/it]"
     ]
    },
    {
     "name": "stdout",
     "output_type": "stream",
     "text": [
      "DOWNLOADED 1 IMAGES ON OBJECT'S #33023 PAGE\n"
     ]
    },
    {
     "name": "stderr",
     "output_type": "stream",
     "text": [
      " 25%|██▌       | 25/100 [01:39<02:32,  2.04s/it]"
     ]
    },
    {
     "name": "stdout",
     "output_type": "stream",
     "text": [
      "DOWNLOADED 1 IMAGES ON OBJECT'S #41691 PAGE\n"
     ]
    },
    {
     "name": "stderr",
     "output_type": "stream",
     "text": [
      " 26%|██▌       | 26/100 [01:49<05:30,  4.47s/it]"
     ]
    },
    {
     "name": "stdout",
     "output_type": "stream",
     "text": [
      "DOWNLOADED 3 IMAGES ON OBJECT'S #33028 PAGE\n"
     ]
    },
    {
     "name": "stderr",
     "output_type": "stream",
     "text": [
      " 27%|██▋       | 27/100 [01:52<05:00,  4.12s/it]"
     ]
    },
    {
     "name": "stdout",
     "output_type": "stream",
     "text": [
      "DOWNLOADED 1 IMAGES ON OBJECT'S #33032 PAGE\n"
     ]
    },
    {
     "name": "stderr",
     "output_type": "stream",
     "text": [
      " 28%|██▊       | 28/100 [01:59<05:59,  4.99s/it]"
     ]
    },
    {
     "name": "stdout",
     "output_type": "stream",
     "text": [
      "DOWNLOADED 2 IMAGES ON OBJECT'S #33042 PAGE\n"
     ]
    },
    {
     "name": "stderr",
     "output_type": "stream",
     "text": [
      " 29%|██▉       | 29/100 [02:03<05:31,  4.67s/it]"
     ]
    },
    {
     "name": "stdout",
     "output_type": "stream",
     "text": [
      "DOWNLOADED 1 IMAGES ON OBJECT'S #33043 PAGE\n"
     ]
    },
    {
     "name": "stderr",
     "output_type": "stream",
     "text": [
      " 30%|███       | 30/100 [02:04<04:04,  3.50s/it]"
     ]
    },
    {
     "name": "stdout",
     "output_type": "stream",
     "text": [
      "DOWNLOADED 1 IMAGES ON OBJECT'S #33088 PAGE\n"
     ]
    },
    {
     "name": "stderr",
     "output_type": "stream",
     "text": [
      " 31%|███       | 31/100 [02:05<03:04,  2.67s/it]"
     ]
    },
    {
     "name": "stdout",
     "output_type": "stream",
     "text": [
      "DOWNLOADED 1 IMAGES ON OBJECT'S #33089 PAGE\n"
     ]
    },
    {
     "name": "stderr",
     "output_type": "stream",
     "text": [
      " 32%|███▏      | 32/100 [02:05<02:21,  2.09s/it]"
     ]
    },
    {
     "name": "stdout",
     "output_type": "stream",
     "text": [
      "DOWNLOADED 1 IMAGES ON OBJECT'S #33090 PAGE\n"
     ]
    },
    {
     "name": "stderr",
     "output_type": "stream",
     "text": [
      " 33%|███▎      | 33/100 [02:06<01:53,  1.70s/it]"
     ]
    },
    {
     "name": "stdout",
     "output_type": "stream",
     "text": [
      "DOWNLOADED 1 IMAGES ON OBJECT'S #33091 PAGE\n"
     ]
    },
    {
     "name": "stderr",
     "output_type": "stream",
     "text": [
      " 34%|███▍      | 34/100 [02:10<02:33,  2.32s/it]"
     ]
    },
    {
     "name": "stdout",
     "output_type": "stream",
     "text": [
      "DOWNLOADED 1 IMAGES ON OBJECT'S #33095 PAGE\n"
     ]
    },
    {
     "name": "stderr",
     "output_type": "stream",
     "text": [
      " 35%|███▌      | 35/100 [02:13<02:49,  2.61s/it]"
     ]
    },
    {
     "name": "stdout",
     "output_type": "stream",
     "text": [
      "DOWNLOADED 1 IMAGES ON OBJECT'S #33096 PAGE\n"
     ]
    },
    {
     "name": "stderr",
     "output_type": "stream",
     "text": [
      " 36%|███▌      | 36/100 [02:16<02:54,  2.73s/it]"
     ]
    },
    {
     "name": "stdout",
     "output_type": "stream",
     "text": [
      "DOWNLOADED 1 IMAGES ON OBJECT'S #33097 PAGE\n"
     ]
    },
    {
     "name": "stderr",
     "output_type": "stream",
     "text": [
      " 37%|███▋      | 37/100 [02:20<03:05,  2.94s/it]"
     ]
    },
    {
     "name": "stdout",
     "output_type": "stream",
     "text": [
      "DOWNLOADED 1 IMAGES ON OBJECT'S #33098 PAGE\n"
     ]
    },
    {
     "name": "stderr",
     "output_type": "stream",
     "text": [
      " 38%|███▊      | 38/100 [02:23<03:14,  3.14s/it]"
     ]
    },
    {
     "name": "stdout",
     "output_type": "stream",
     "text": [
      "DOWNLOADED 1 IMAGES ON OBJECT'S #33099 PAGE\n"
     ]
    },
    {
     "name": "stderr",
     "output_type": "stream",
     "text": [
      " 39%|███▉      | 39/100 [02:27<03:19,  3.27s/it]"
     ]
    },
    {
     "name": "stdout",
     "output_type": "stream",
     "text": [
      "DOWNLOADED 1 IMAGES ON OBJECT'S #33100 PAGE\n"
     ]
    },
    {
     "name": "stderr",
     "output_type": "stream",
     "text": [
      " 40%|████      | 40/100 [02:30<03:20,  3.35s/it]"
     ]
    },
    {
     "name": "stdout",
     "output_type": "stream",
     "text": [
      "DOWNLOADED 1 IMAGES ON OBJECT'S #33101 PAGE\n"
     ]
    },
    {
     "name": "stderr",
     "output_type": "stream",
     "text": [
      " 41%|████      | 41/100 [02:34<03:25,  3.48s/it]"
     ]
    },
    {
     "name": "stdout",
     "output_type": "stream",
     "text": [
      "DOWNLOADED 1 IMAGES ON OBJECT'S #33106 PAGE\n"
     ]
    },
    {
     "name": "stderr",
     "output_type": "stream",
     "text": [
      " 42%|████▏     | 42/100 [02:38<03:23,  3.50s/it]"
     ]
    },
    {
     "name": "stdout",
     "output_type": "stream",
     "text": [
      "DOWNLOADED 1 IMAGES ON OBJECT'S #33107 PAGE\n"
     ]
    },
    {
     "name": "stderr",
     "output_type": "stream",
     "text": [
      " 43%|████▎     | 43/100 [02:41<03:17,  3.47s/it]"
     ]
    },
    {
     "name": "stdout",
     "output_type": "stream",
     "text": [
      "DOWNLOADED 1 IMAGES ON OBJECT'S #33115 PAGE\n"
     ]
    },
    {
     "name": "stderr",
     "output_type": "stream",
     "text": [
      " 44%|████▍     | 44/100 [02:44<03:09,  3.38s/it]"
     ]
    },
    {
     "name": "stdout",
     "output_type": "stream",
     "text": [
      "DOWNLOADED 1 IMAGES ON OBJECT'S #33123 PAGE\n"
     ]
    },
    {
     "name": "stderr",
     "output_type": "stream",
     "text": [
      " 45%|████▌     | 45/100 [02:48<03:04,  3.35s/it]"
     ]
    },
    {
     "name": "stdout",
     "output_type": "stream",
     "text": [
      "DOWNLOADED 1 IMAGES ON OBJECT'S #33134 PAGE\n"
     ]
    },
    {
     "name": "stderr",
     "output_type": "stream",
     "text": [
      " 46%|████▌     | 46/100 [02:51<02:57,  3.29s/it]"
     ]
    },
    {
     "name": "stdout",
     "output_type": "stream",
     "text": [
      "DOWNLOADED 1 IMAGES ON OBJECT'S #33135 PAGE\n"
     ]
    },
    {
     "name": "stderr",
     "output_type": "stream",
     "text": [
      " 47%|████▋     | 47/100 [02:54<02:53,  3.27s/it]"
     ]
    },
    {
     "name": "stdout",
     "output_type": "stream",
     "text": [
      "DOWNLOADED 1 IMAGES ON OBJECT'S #33136 PAGE\n"
     ]
    },
    {
     "name": "stderr",
     "output_type": "stream",
     "text": [
      " 48%|████▊     | 48/100 [02:57<02:50,  3.27s/it]"
     ]
    },
    {
     "name": "stdout",
     "output_type": "stream",
     "text": [
      "DOWNLOADED 1 IMAGES ON OBJECT'S #33137 PAGE\n"
     ]
    },
    {
     "name": "stderr",
     "output_type": "stream",
     "text": [
      " 49%|████▉     | 49/100 [03:00<02:44,  3.22s/it]"
     ]
    },
    {
     "name": "stdout",
     "output_type": "stream",
     "text": [
      "DOWNLOADED 1 IMAGES ON OBJECT'S #33138 PAGE\n"
     ]
    },
    {
     "name": "stderr",
     "output_type": "stream",
     "text": [
      " 50%|█████     | 50/100 [03:01<02:05,  2.52s/it]"
     ]
    },
    {
     "name": "stdout",
     "output_type": "stream",
     "text": [
      "DOWNLOADED 2 IMAGES ON OBJECT'S #33139 PAGE\n"
     ]
    },
    {
     "name": "stderr",
     "output_type": "stream",
     "text": [
      " 51%|█████     | 51/100 [03:02<01:38,  2.02s/it]"
     ]
    },
    {
     "name": "stdout",
     "output_type": "stream",
     "text": [
      "DOWNLOADED 2 IMAGES ON OBJECT'S #33140 PAGE\n"
     ]
    },
    {
     "name": "stderr",
     "output_type": "stream",
     "text": [
      " 52%|█████▏    | 52/100 [03:03<01:23,  1.75s/it]"
     ]
    },
    {
     "name": "stdout",
     "output_type": "stream",
     "text": [
      "DOWNLOADED 2 IMAGES ON OBJECT'S #33141 PAGE\n"
     ]
    },
    {
     "name": "stderr",
     "output_type": "stream",
     "text": [
      " 53%|█████▎    | 53/100 [03:04<01:10,  1.50s/it]"
     ]
    },
    {
     "name": "stdout",
     "output_type": "stream",
     "text": [
      "DOWNLOADED 2 IMAGES ON OBJECT'S #33142 PAGE\n"
     ]
    },
    {
     "name": "stderr",
     "output_type": "stream",
     "text": [
      " 54%|█████▍    | 54/100 [03:07<01:26,  1.87s/it]"
     ]
    },
    {
     "name": "stdout",
     "output_type": "stream",
     "text": [
      "DOWNLOADED 1 IMAGES ON OBJECT'S #33143 PAGE\n"
     ]
    },
    {
     "name": "stderr",
     "output_type": "stream",
     "text": [
      " 55%|█████▌    | 55/100 [03:10<01:48,  2.41s/it]"
     ]
    },
    {
     "name": "stdout",
     "output_type": "stream",
     "text": [
      "DOWNLOADED 1 IMAGES ON OBJECT'S #33144 PAGE\n"
     ]
    },
    {
     "name": "stderr",
     "output_type": "stream",
     "text": [
      " 56%|█████▌    | 56/100 [03:14<01:57,  2.66s/it]"
     ]
    },
    {
     "name": "stdout",
     "output_type": "stream",
     "text": [
      "DOWNLOADED 1 IMAGES ON OBJECT'S #33145 PAGE\n"
     ]
    },
    {
     "name": "stderr",
     "output_type": "stream",
     "text": [
      " 57%|█████▋    | 57/100 [03:17<02:06,  2.93s/it]"
     ]
    },
    {
     "name": "stdout",
     "output_type": "stream",
     "text": [
      "DOWNLOADED 1 IMAGES ON OBJECT'S #33146 PAGE\n"
     ]
    },
    {
     "name": "stderr",
     "output_type": "stream",
     "text": [
      " 58%|█████▊    | 58/100 [03:20<02:06,  3.01s/it]"
     ]
    },
    {
     "name": "stdout",
     "output_type": "stream",
     "text": [
      "DOWNLOADED 1 IMAGES ON OBJECT'S #33147 PAGE\n"
     ]
    },
    {
     "name": "stderr",
     "output_type": "stream",
     "text": [
      " 59%|█████▉    | 59/100 [03:24<02:11,  3.20s/it]"
     ]
    },
    {
     "name": "stdout",
     "output_type": "stream",
     "text": [
      "DOWNLOADED 1 IMAGES ON OBJECT'S #33148 PAGE\n"
     ]
    },
    {
     "name": "stderr",
     "output_type": "stream",
     "text": [
      " 60%|██████    | 60/100 [03:27<02:06,  3.16s/it]"
     ]
    },
    {
     "name": "stdout",
     "output_type": "stream",
     "text": [
      "DOWNLOADED 1 IMAGES ON OBJECT'S #33149 PAGE\n"
     ]
    },
    {
     "name": "stderr",
     "output_type": "stream",
     "text": [
      " 61%|██████    | 61/100 [03:31<02:09,  3.33s/it]"
     ]
    },
    {
     "name": "stdout",
     "output_type": "stream",
     "text": [
      "DOWNLOADED 1 IMAGES ON OBJECT'S #33150 PAGE\n"
     ]
    },
    {
     "name": "stderr",
     "output_type": "stream",
     "text": [
      " 62%|██████▏   | 62/100 [03:34<02:08,  3.39s/it]"
     ]
    },
    {
     "name": "stdout",
     "output_type": "stream",
     "text": [
      "DOWNLOADED 1 IMAGES ON OBJECT'S #33151 PAGE\n"
     ]
    },
    {
     "name": "stderr",
     "output_type": "stream",
     "text": [
      " 63%|██████▎   | 63/100 [03:38<02:06,  3.43s/it]"
     ]
    },
    {
     "name": "stdout",
     "output_type": "stream",
     "text": [
      "DOWNLOADED 1 IMAGES ON OBJECT'S #33152 PAGE\n"
     ]
    },
    {
     "name": "stderr",
     "output_type": "stream",
     "text": [
      " 64%|██████▍   | 64/100 [03:44<02:28,  4.13s/it]"
     ]
    },
    {
     "name": "stdout",
     "output_type": "stream",
     "text": [
      "DOWNLOADED 1 IMAGES ON OBJECT'S #33153 PAGE\n"
     ]
    },
    {
     "name": "stderr",
     "output_type": "stream",
     "text": [
      " 65%|██████▌   | 65/100 [03:47<02:17,  3.92s/it]"
     ]
    },
    {
     "name": "stdout",
     "output_type": "stream",
     "text": [
      "DOWNLOADED 1 IMAGES ON OBJECT'S #33154 PAGE\n"
     ]
    },
    {
     "name": "stderr",
     "output_type": "stream",
     "text": [
      " 66%|██████▌   | 66/100 [03:51<02:11,  3.86s/it]"
     ]
    },
    {
     "name": "stdout",
     "output_type": "stream",
     "text": [
      "DOWNLOADED 1 IMAGES ON OBJECT'S #33155 PAGE\n"
     ]
    },
    {
     "name": "stderr",
     "output_type": "stream",
     "text": [
      " 67%|██████▋   | 67/100 [03:54<02:01,  3.69s/it]"
     ]
    },
    {
     "name": "stdout",
     "output_type": "stream",
     "text": [
      "DOWNLOADED 1 IMAGES ON OBJECT'S #33156 PAGE\n"
     ]
    },
    {
     "name": "stderr",
     "output_type": "stream",
     "text": [
      " 68%|██████▊   | 68/100 [04:01<02:25,  4.53s/it]"
     ]
    },
    {
     "name": "stdout",
     "output_type": "stream",
     "text": [
      "DOWNLOADED 2 IMAGES ON OBJECT'S #33157 PAGE\n"
     ]
    },
    {
     "name": "stderr",
     "output_type": "stream",
     "text": [
      " 69%|██████▉   | 69/100 [04:04<02:09,  4.19s/it]"
     ]
    },
    {
     "name": "stdout",
     "output_type": "stream",
     "text": [
      "DOWNLOADED 1 IMAGES ON OBJECT'S #33158 PAGE\n"
     ]
    },
    {
     "name": "stderr",
     "output_type": "stream",
     "text": [
      " 70%|███████   | 70/100 [04:07<01:56,  3.89s/it]"
     ]
    },
    {
     "name": "stdout",
     "output_type": "stream",
     "text": [
      "DOWNLOADED 1 IMAGES ON OBJECT'S #33159 PAGE\n"
     ]
    },
    {
     "name": "stderr",
     "output_type": "stream",
     "text": [
      " 71%|███████   | 71/100 [04:11<01:49,  3.76s/it]"
     ]
    },
    {
     "name": "stdout",
     "output_type": "stream",
     "text": [
      "DOWNLOADED 1 IMAGES ON OBJECT'S #33160 PAGE\n"
     ]
    },
    {
     "name": "stderr",
     "output_type": "stream",
     "text": [
      " 72%|███████▏  | 72/100 [04:14<01:44,  3.74s/it]"
     ]
    },
    {
     "name": "stdout",
     "output_type": "stream",
     "text": [
      "DOWNLOADED 1 IMAGES ON OBJECT'S #33161 PAGE\n"
     ]
    },
    {
     "name": "stderr",
     "output_type": "stream",
     "text": [
      " 73%|███████▎  | 73/100 [04:17<01:34,  3.51s/it]"
     ]
    },
    {
     "name": "stdout",
     "output_type": "stream",
     "text": [
      "DOWNLOADED 1 IMAGES ON OBJECT'S #33162 PAGE\n"
     ]
    },
    {
     "name": "stderr",
     "output_type": "stream",
     "text": [
      " 74%|███████▍  | 74/100 [04:21<01:30,  3.49s/it]"
     ]
    },
    {
     "name": "stdout",
     "output_type": "stream",
     "text": [
      "DOWNLOADED 1 IMAGES ON OBJECT'S #33163 PAGE\n"
     ]
    },
    {
     "name": "stderr",
     "output_type": "stream",
     "text": [
      " 75%|███████▌  | 75/100 [04:24<01:27,  3.48s/it]"
     ]
    },
    {
     "name": "stdout",
     "output_type": "stream",
     "text": [
      "DOWNLOADED 1 IMAGES ON OBJECT'S #33164 PAGE\n"
     ]
    },
    {
     "name": "stderr",
     "output_type": "stream",
     "text": [
      " 76%|███████▌  | 76/100 [04:28<01:23,  3.49s/it]"
     ]
    },
    {
     "name": "stdout",
     "output_type": "stream",
     "text": [
      "DOWNLOADED 1 IMAGES ON OBJECT'S #33165 PAGE\n"
     ]
    },
    {
     "name": "stderr",
     "output_type": "stream",
     "text": [
      " 77%|███████▋  | 77/100 [04:33<01:29,  3.90s/it]"
     ]
    },
    {
     "name": "stdout",
     "output_type": "stream",
     "text": [
      "DOWNLOADED 1 IMAGES ON OBJECT'S #33166 PAGE\n"
     ]
    },
    {
     "name": "stderr",
     "output_type": "stream",
     "text": [
      " 78%|███████▊  | 78/100 [04:36<01:20,  3.68s/it]"
     ]
    },
    {
     "name": "stdout",
     "output_type": "stream",
     "text": [
      "DOWNLOADED 1 IMAGES ON OBJECT'S #33167 PAGE\n"
     ]
    },
    {
     "name": "stderr",
     "output_type": "stream",
     "text": [
      " 79%|███████▉  | 79/100 [04:39<01:15,  3.60s/it]"
     ]
    },
    {
     "name": "stdout",
     "output_type": "stream",
     "text": [
      "DOWNLOADED 1 IMAGES ON OBJECT'S #33168 PAGE\n"
     ]
    },
    {
     "name": "stderr",
     "output_type": "stream",
     "text": [
      " 80%|████████  | 80/100 [04:42<01:04,  3.21s/it]"
     ]
    },
    {
     "name": "stdout",
     "output_type": "stream",
     "text": [
      "DOWNLOADED 1 IMAGES ON OBJECT'S #33169 PAGE\n"
     ]
    },
    {
     "name": "stderr",
     "output_type": "stream",
     "text": [
      " 81%|████████  | 81/100 [04:45<01:01,  3.21s/it]"
     ]
    },
    {
     "name": "stdout",
     "output_type": "stream",
     "text": [
      "DOWNLOADED 1 IMAGES ON OBJECT'S #33170 PAGE\n"
     ]
    },
    {
     "name": "stderr",
     "output_type": "stream",
     "text": [
      " 82%|████████▏ | 82/100 [04:48<01:00,  3.36s/it]"
     ]
    },
    {
     "name": "stdout",
     "output_type": "stream",
     "text": [
      "DOWNLOADED 1 IMAGES ON OBJECT'S #33171 PAGE\n"
     ]
    },
    {
     "name": "stderr",
     "output_type": "stream",
     "text": [
      " 83%|████████▎ | 83/100 [04:51<00:53,  3.17s/it]"
     ]
    },
    {
     "name": "stdout",
     "output_type": "stream",
     "text": [
      "DOWNLOADED 1 IMAGES ON OBJECT'S #33172 PAGE\n"
     ]
    },
    {
     "name": "stderr",
     "output_type": "stream",
     "text": [
      " 84%|████████▍ | 84/100 [04:55<00:52,  3.28s/it]"
     ]
    },
    {
     "name": "stdout",
     "output_type": "stream",
     "text": [
      "DOWNLOADED 1 IMAGES ON OBJECT'S #33173 PAGE\n"
     ]
    },
    {
     "name": "stderr",
     "output_type": "stream",
     "text": [
      " 85%|████████▌ | 85/100 [04:58<00:49,  3.29s/it]"
     ]
    },
    {
     "name": "stdout",
     "output_type": "stream",
     "text": [
      "DOWNLOADED 1 IMAGES ON OBJECT'S #33174 PAGE\n"
     ]
    },
    {
     "name": "stderr",
     "output_type": "stream",
     "text": [
      " 86%|████████▌ | 86/100 [05:01<00:46,  3.30s/it]"
     ]
    },
    {
     "name": "stdout",
     "output_type": "stream",
     "text": [
      "DOWNLOADED 1 IMAGES ON OBJECT'S #33175 PAGE\n"
     ]
    },
    {
     "name": "stderr",
     "output_type": "stream",
     "text": [
      " 87%|████████▋ | 87/100 [05:03<00:37,  2.89s/it]"
     ]
    },
    {
     "name": "stdout",
     "output_type": "stream",
     "text": [
      "DOWNLOADED 1 IMAGES ON OBJECT'S #33176 PAGE\n"
     ]
    },
    {
     "name": "stderr",
     "output_type": "stream",
     "text": [
      " 88%|████████▊ | 88/100 [05:06<00:34,  2.85s/it]"
     ]
    },
    {
     "name": "stdout",
     "output_type": "stream",
     "text": [
      "DOWNLOADED 1 IMAGES ON OBJECT'S #33177 PAGE\n"
     ]
    },
    {
     "name": "stderr",
     "output_type": "stream",
     "text": [
      " 89%|████████▉ | 89/100 [05:10<00:33,  3.04s/it]"
     ]
    },
    {
     "name": "stdout",
     "output_type": "stream",
     "text": [
      "DOWNLOADED 1 IMAGES ON OBJECT'S #33178 PAGE\n"
     ]
    },
    {
     "name": "stderr",
     "output_type": "stream",
     "text": [
      " 90%|█████████ | 90/100 [05:12<00:29,  2.90s/it]"
     ]
    },
    {
     "name": "stdout",
     "output_type": "stream",
     "text": [
      "DOWNLOADED 1 IMAGES ON OBJECT'S #33179 PAGE\n"
     ]
    },
    {
     "name": "stderr",
     "output_type": "stream",
     "text": [
      " 91%|█████████ | 91/100 [05:15<00:25,  2.82s/it]"
     ]
    },
    {
     "name": "stdout",
     "output_type": "stream",
     "text": [
      "DOWNLOADED 1 IMAGES ON OBJECT'S #33180 PAGE\n"
     ]
    },
    {
     "name": "stderr",
     "output_type": "stream",
     "text": [
      " 92%|█████████▏| 92/100 [05:18<00:23,  2.99s/it]"
     ]
    },
    {
     "name": "stdout",
     "output_type": "stream",
     "text": [
      "DOWNLOADED 1 IMAGES ON OBJECT'S #33181 PAGE\n"
     ]
    },
    {
     "name": "stderr",
     "output_type": "stream",
     "text": [
      " 93%|█████████▎| 93/100 [05:22<00:21,  3.14s/it]"
     ]
    },
    {
     "name": "stdout",
     "output_type": "stream",
     "text": [
      "DOWNLOADED 1 IMAGES ON OBJECT'S #33182 PAGE\n"
     ]
    },
    {
     "name": "stderr",
     "output_type": "stream",
     "text": [
      " 94%|█████████▍| 94/100 [05:25<00:19,  3.19s/it]"
     ]
    },
    {
     "name": "stdout",
     "output_type": "stream",
     "text": [
      "DOWNLOADED 1 IMAGES ON OBJECT'S #33183 PAGE\n"
     ]
    },
    {
     "name": "stderr",
     "output_type": "stream",
     "text": [
      " 95%|█████████▌| 95/100 [05:27<00:14,  2.97s/it]"
     ]
    },
    {
     "name": "stdout",
     "output_type": "stream",
     "text": [
      "DOWNLOADED 1 IMAGES ON OBJECT'S #33184 PAGE\n"
     ]
    },
    {
     "name": "stderr",
     "output_type": "stream",
     "text": [
      " 96%|█████████▌| 96/100 [05:30<00:11,  2.99s/it]"
     ]
    },
    {
     "name": "stdout",
     "output_type": "stream",
     "text": [
      "DOWNLOADED 1 IMAGES ON OBJECT'S #33185 PAGE\n"
     ]
    },
    {
     "name": "stderr",
     "output_type": "stream",
     "text": [
      " 97%|█████████▋| 97/100 [05:34<00:09,  3.10s/it]"
     ]
    },
    {
     "name": "stdout",
     "output_type": "stream",
     "text": [
      "DOWNLOADED 1 IMAGES ON OBJECT'S #33186 PAGE\n"
     ]
    },
    {
     "name": "stderr",
     "output_type": "stream",
     "text": [
      " 98%|█████████▊| 98/100 [05:37<00:05,  3.00s/it]"
     ]
    },
    {
     "name": "stdout",
     "output_type": "stream",
     "text": [
      "DOWNLOADED 1 IMAGES ON OBJECT'S #33187 PAGE\n"
     ]
    },
    {
     "name": "stderr",
     "output_type": "stream",
     "text": [
      " 99%|█████████▉| 99/100 [05:40<00:03,  3.16s/it]"
     ]
    },
    {
     "name": "stdout",
     "output_type": "stream",
     "text": [
      "DOWNLOADED 1 IMAGES ON OBJECT'S #33188 PAGE\n"
     ]
    },
    {
     "name": "stderr",
     "output_type": "stream",
     "text": [
      "100%|██████████| 100/100 [05:43<00:00,  3.44s/it]"
     ]
    },
    {
     "name": "stdout",
     "output_type": "stream",
     "text": [
      "DOWNLOADED 1 IMAGES ON OBJECT'S #33189 PAGE\n"
     ]
    },
    {
     "name": "stderr",
     "output_type": "stream",
     "text": [
      "\n"
     ]
    }
   ],
   "source": [
    "# в цикле вызываем нашу функцию для каждого объекта и скачиваем файлы\n",
    "for obj in tqdm(list(set(full_objects_list))[:100]):\n",
    "    print(get_images(obj))"
   ],
   "metadata": {
    "collapsed": false,
    "pycharm": {
     "name": "#%%\n"
    }
   }
  },
  {
   "cell_type": "markdown",
   "source": [
    "❗ вызов сделан только для первых 100 объектов, т.к. по моим оценкам для всех объектов объём фото составляет от 20 до 40 Гб, и качать их смысла нет"
   ],
   "metadata": {
    "collapsed": false,
    "pycharm": {
     "name": "#%% md\n"
    }
   }
  },
  {
   "cell_type": "code",
   "execution_count": 15,
   "outputs": [],
   "source": [],
   "metadata": {
    "collapsed": false,
    "pycharm": {
     "name": "#%%\n"
    }
   }
  }
 ],
 "metadata": {
  "kernelspec": {
   "display_name": "Python 3",
   "language": "python",
   "name": "python3"
  },
  "language_info": {
   "codemirror_mode": {
    "name": "ipython",
    "version": 2
   },
   "file_extension": ".py",
   "mimetype": "text/x-python",
   "name": "python",
   "nbconvert_exporter": "python",
   "pygments_lexer": "ipython2",
   "version": "2.7.6"
  }
 },
 "nbformat": 4,
 "nbformat_minor": 0
}