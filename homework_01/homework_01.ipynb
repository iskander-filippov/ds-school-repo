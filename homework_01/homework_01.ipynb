{
 "cells": [
  {
   "cell_type": "code",
   "execution_count": 103,
   "metadata": {
    "collapsed": true,
    "pycharm": {
     "name": "#%%\n"
    }
   },
   "outputs": [],
   "source": [
    "import pandas as pd\n",
    "import requests\n",
    "from tqdm import tqdm"
   ]
  },
  {
   "cell_type": "code",
   "execution_count": 32,
   "outputs": [],
   "source": [
    "min_obj = 1\n",
    "max_obj = 10527\n",
    "step = 1000"
   ],
   "metadata": {
    "collapsed": false,
    "pycharm": {
     "name": "#%%\n"
    }
   }
  },
  {
   "cell_type": "code",
   "execution_count": 96,
   "outputs": [],
   "source": [
    "def get_chunk(off, lim):\n",
    "    url = f'https://xn--80az8a.xn--d1aqf.xn--p1ai/%D1%81%D0%B5%D1%80%D0%B2%D0%B8%D1%81%D1%8B/api/kn/object?offset={off}&limit={lim}&sortField=devId.devShortCleanNm&sortType=asc&objStatus=0'\n",
    "    res = requests.get(url)\n",
    "    objects_data = res.json()\n",
    "    objects_list = objects_data.get('data').get('list')\n",
    "    result = [obj.get('objId') for obj in objects_list]\n",
    "    return result"
   ],
   "metadata": {
    "collapsed": false,
    "pycharm": {
     "name": "#%%\n"
    }
   }
  },
  {
   "cell_type": "code",
   "execution_count": 119,
   "outputs": [],
   "source": [
    "def get_obj_info(obj_id):\n",
    "    res = requests.get(f'https://xn--80az8a.xn--d1aqf.xn--p1ai/%D1%81%D0%B5%D1%80%D0%B2%D0%B8%D1%81%D1%8B/api/object/{obj_id}')\n",
    "    return res.json()"
   ],
   "metadata": {
    "collapsed": false,
    "pycharm": {
     "name": "#%%\n"
    }
   }
  },
  {
   "cell_type": "code",
   "execution_count": 107,
   "outputs": [
    {
     "name": "stderr",
     "output_type": "stream",
     "text": [
      "100%|██████████| 11/11 [05:41<00:00, 31.06s/it]\n"
     ]
    }
   ],
   "source": [
    "full_objects_list = []\n",
    "for offset_, limit_ in tqdm([\n",
    "    (min_obj + step * x, min_obj + step * (x + 1) if min_obj + step * (x + 1) <= max_obj else max_obj) for x in range(round(max_obj / step))\n",
    "]):\n",
    "    full_objects_list += get_chunk(offset_, limit_)"
   ],
   "metadata": {
    "collapsed": false,
    "pycharm": {
     "name": "#%%\n"
    }
   }
  },
  {
   "cell_type": "code",
   "execution_count": 115,
   "outputs": [],
   "source": [
    "with open('full_objects_list.txt', 'w', encoding='utf-8') as f:\n",
    "    f.writelines(set(str(obj)+'\\n' for obj in full_objects_list))"
   ],
   "metadata": {
    "collapsed": false,
    "pycharm": {
     "name": "#%%\n"
    }
   }
  },
  {
   "cell_type": "code",
   "execution_count": 136,
   "outputs": [],
   "source": [
    "full_data = pd.DataFrame()"
   ],
   "metadata": {
    "collapsed": false,
    "pycharm": {
     "name": "#%%\n"
    }
   }
  },
  {
   "cell_type": "code",
   "execution_count": 137,
   "outputs": [
    {
     "name": "stderr",
     "output_type": "stream",
     "text": [
      "100%|██████████| 10526/10526 [39:05<00:00,  4.49it/s] \n"
     ]
    }
   ],
   "source": [
    "for obj in tqdm(set(full_objects_list)):\n",
    "    temp = pd.DataFrame(data=get_obj_info(obj)).drop(columns='errcode').T.reset_index(drop=True)\n",
    "    full_data = pd.concat(\n",
    "        [\n",
    "            full_data,\n",
    "            temp\n",
    "        ],\n",
    "        sort=False\n",
    "    ).reset_index(drop=True)"
   ],
   "metadata": {
    "collapsed": false,
    "pycharm": {
     "name": "#%%\n"
    }
   }
  },
  {
   "cell_type": "code",
   "execution_count": 138,
   "outputs": [
    {
     "data": {
      "text/plain": "                                                 address conclusion  \\\n0             г Энгельс, ул Трудовая, д. 12, строение 1Г       True   \n1      г Набережные Челны, вдоль проспекта Яшьлек, бл...       True   \n2                г Красногорск, район Марьино, корпус 25      False   \n3            г Кохма, улица Ивановская, литера В, 5 этап       True   \n4      г Кемерово, бульвар Строителей, д. 60, корпус 4/1      False   \n...                                                  ...        ...   \n10521        город Хабаровск, переулок Гражданский, д. 9      False   \n10522    г Тверь, ул Планерная, д. 10, блок-секция 7,8,9      False   \n10523             г Москва, набережная Павелецкая, вл. 8      False   \n10524              г Дзержинский, улица Угрешская, д. 19      False   \n10525                      г Пермь, улица Ленская, д. 30      False   \n\n                                               developer floorMax floorMin  \\\n0      {'devId': 1923, 'devShortCleanNm': 'СЗ ШЭЛДОМ'...       25       25   \n1      {'devId': 6946, 'devShortCleanNm': 'СЗТКС', 'd...       13       12   \n2      {'devId': 6434, 'devShortCleanNm': 'СЗ ДЖЕВОСС...       13        9   \n3      {'devId': 1577, 'devShortCleanNm': 'СЗ КАПИТАЛ...        8        8   \n4      {'devId': 530, 'devShortCleanNm': 'СЗ ПРОГРАНД...       14       12   \n...                                                  ...      ...      ...   \n10521  {'devId': 7110, 'devShortCleanNm': 'ИНВЕСТ-ДВ'...       25       25   \n10522  {'devId': 7689, 'devShortCleanNm': 'СК ОСТ', '...       11       11   \n10523  {'devId': 2240, 'devShortCleanNm': 'МКПК', 'de...       18        1   \n10524  {'devId': 7019, 'devShortCleanNm': 'СЗ ВСН ИНВ...        9        9   \n10525  {'devId': 4343, 'devShortCleanNm': 'КМ-ИНВЕСТ'...       25       25   \n\n          id infrastructureIndexValue isAvailableWantLiveHere  \\\n0      45592                        7                    True   \n1      32787                        8                    True   \n2      32793                        6                    True   \n3      32849                        5                    True   \n4      32873                        9                    True   \n...      ...                      ...                     ...   \n10521  32629                        9                    True   \n10522  32677                        8                    True   \n10523  32709                        8                    True   \n10524  32710                        8                    True   \n10525  32736                        3                    True   \n\n               loadDttm                                            miniUrl  \\\n0      16-08-2022 01:17  https://xn--80az8a.xn--d1aqf.xn--p1ai/api/ext/...   \n1      16-08-2022 01:17  https://xn--80az8a.xn--d1aqf.xn--p1ai/api/ext/...   \n2      16-08-2022 01:17  https://xn--80az8a.xn--d1aqf.xn--p1ai/api/ext/...   \n3      16-08-2022 01:17  https://xn--80az8a.xn--d1aqf.xn--p1ai/api/ext/...   \n4      16-08-2022 01:17  https://xn--80az8a.xn--d1aqf.xn--p1ai/api/ext/...   \n...                 ...                                                ...   \n10521  16-08-2022 01:17  https://xn--80az8a.xn--d1aqf.xn--p1ai/api/ext/...   \n10522  16-08-2022 01:17  https://xn--80az8a.xn--d1aqf.xn--p1ai/api/ext/...   \n10523  16-08-2022 01:17  https://xn--80az8a.xn--d1aqf.xn--p1ai/api/ext/...   \n10524  16-08-2022 01:17  https://xn--80az8a.xn--d1aqf.xn--p1ai/api/ext/...   \n10525  16-08-2022 01:17  https://xn--80az8a.xn--d1aqf.xn--p1ai/api/ext/...   \n\n       ...                                         rpdPdfLink soldOutPerc  \\\n0      ...  https://xn--80az8a.xn--d1aqf.xn--p1ai/api/ext/...    0.004245   \n1      ...  https://xn--80az8a.xn--d1aqf.xn--p1ai/api/ext/...     0.90394   \n2      ...  https://xn--80az8a.xn--d1aqf.xn--p1ai/api/ext/...    0.863037   \n3      ...  https://xn--80az8a.xn--d1aqf.xn--p1ai/api/ext/...    0.874335   \n4      ...  https://xn--80az8a.xn--d1aqf.xn--p1ai/api/ext/...    0.985498   \n...    ...                                                ...         ...   \n10521  ...  https://xn--80az8a.xn--d1aqf.xn--p1ai/api/ext/...    0.613009   \n10522  ...  https://xn--80az8a.xn--d1aqf.xn--p1ai/api/ext/...         1.0   \n10523  ...  https://xn--80az8a.xn--d1aqf.xn--p1ai/api/ext/...         1.0   \n10524  ...  https://xn--80az8a.xn--d1aqf.xn--p1ai/api/ext/...    0.006809   \n10525  ...  https://xn--80az8a.xn--d1aqf.xn--p1ai/api/ext/...    0.211919   \n\n      wallMaterialShortDesc  \\\n0            Монолит-кирпич   \n1            Монолит-кирпич   \n2            Монолит-кирпич   \n3            Монолит-кирпич   \n4                    Кирпич   \n...                     ...   \n10521        Монолит-кирпич   \n10522                Другое   \n10523        Монолит-кирпич   \n10524        Монолит-кирпич   \n10525                Другое   \n\n                                     generalContractorNm airQualityIndexValue  \\\n0                                                    NaN                  NaN   \n1                         ООО \"Билант\" (ИНН: 1651000203)                  NaN   \n2                ООО \"Компания Б.В.С.\" (ИНН: 7703543324)                    7   \n3                 ООО \"Кохмаситистрой\" (ИНН: 3702149712)                  NaN   \n4                     ООО \"Жилищник-2\" (ИНН: 4206024725)                  NaN   \n...                                                  ...                  ...   \n10521                     ООО Стройкор (ИНН: 2723197401)                  NaN   \n10522  ООО Строительная фирма многофункциональный жил...                  NaN   \n10523                 ООО СТРОЙИНКОМ-К (ИНН: 7732110251)                    6   \n10524                                                NaN                    8   \n10525  ООО \"Управляющая компания \"ИнтерСтройИнвест\" (...                  NaN   \n\n      greenAreaIndexValue transportDistIndex transportDistIndexValue  \\\n0                     NaN                NaN                     NaN   \n1                     NaN                NaN                     NaN   \n2                     NaN                NaN                     NaN   \n3                     NaN                NaN                     NaN   \n4                     NaN                NaN                     NaN   \n...                   ...                ...                     ...   \n10521                 NaN                NaN                     NaN   \n10522                 NaN                NaN                     NaN   \n10523                   2             8 / 10                       8   \n10524                 NaN                NaN                     NaN   \n10525                 NaN                NaN                     NaN   \n\n      complexShortNm metro  \n0                NaN   NaN  \n1                NaN   NaN  \n2                NaN   NaN  \n3                NaN   NaN  \n4                NaN   NaN  \n...              ...   ...  \n10521            NaN   NaN  \n10522            NaN   NaN  \n10523            NaN   NaN  \n10524            NaN   NaN  \n10525            NaN   NaN  \n\n[10526 rows x 66 columns]",
      "text/html": "<div>\n<style scoped>\n    .dataframe tbody tr th:only-of-type {\n        vertical-align: middle;\n    }\n\n    .dataframe tbody tr th {\n        vertical-align: top;\n    }\n\n    .dataframe thead th {\n        text-align: right;\n    }\n</style>\n<table border=\"1\" class=\"dataframe\">\n  <thead>\n    <tr style=\"text-align: right;\">\n      <th></th>\n      <th>address</th>\n      <th>conclusion</th>\n      <th>developer</th>\n      <th>floorMax</th>\n      <th>floorMin</th>\n      <th>id</th>\n      <th>infrastructureIndexValue</th>\n      <th>isAvailableWantLiveHere</th>\n      <th>loadDttm</th>\n      <th>miniUrl</th>\n      <th>...</th>\n      <th>rpdPdfLink</th>\n      <th>soldOutPerc</th>\n      <th>wallMaterialShortDesc</th>\n      <th>generalContractorNm</th>\n      <th>airQualityIndexValue</th>\n      <th>greenAreaIndexValue</th>\n      <th>transportDistIndex</th>\n      <th>transportDistIndexValue</th>\n      <th>complexShortNm</th>\n      <th>metro</th>\n    </tr>\n  </thead>\n  <tbody>\n    <tr>\n      <th>0</th>\n      <td>г Энгельс, ул Трудовая, д. 12, строение 1Г</td>\n      <td>True</td>\n      <td>{'devId': 1923, 'devShortCleanNm': 'СЗ ШЭЛДОМ'...</td>\n      <td>25</td>\n      <td>25</td>\n      <td>45592</td>\n      <td>7</td>\n      <td>True</td>\n      <td>16-08-2022 01:17</td>\n      <td>https://xn--80az8a.xn--d1aqf.xn--p1ai/api/ext/...</td>\n      <td>...</td>\n      <td>https://xn--80az8a.xn--d1aqf.xn--p1ai/api/ext/...</td>\n      <td>0.004245</td>\n      <td>Монолит-кирпич</td>\n      <td>NaN</td>\n      <td>NaN</td>\n      <td>NaN</td>\n      <td>NaN</td>\n      <td>NaN</td>\n      <td>NaN</td>\n      <td>NaN</td>\n    </tr>\n    <tr>\n      <th>1</th>\n      <td>г Набережные Челны, вдоль проспекта Яшьлек, бл...</td>\n      <td>True</td>\n      <td>{'devId': 6946, 'devShortCleanNm': 'СЗТКС', 'd...</td>\n      <td>13</td>\n      <td>12</td>\n      <td>32787</td>\n      <td>8</td>\n      <td>True</td>\n      <td>16-08-2022 01:17</td>\n      <td>https://xn--80az8a.xn--d1aqf.xn--p1ai/api/ext/...</td>\n      <td>...</td>\n      <td>https://xn--80az8a.xn--d1aqf.xn--p1ai/api/ext/...</td>\n      <td>0.90394</td>\n      <td>Монолит-кирпич</td>\n      <td>ООО \"Билант\" (ИНН: 1651000203)</td>\n      <td>NaN</td>\n      <td>NaN</td>\n      <td>NaN</td>\n      <td>NaN</td>\n      <td>NaN</td>\n      <td>NaN</td>\n    </tr>\n    <tr>\n      <th>2</th>\n      <td>г Красногорск, район Марьино, корпус 25</td>\n      <td>False</td>\n      <td>{'devId': 6434, 'devShortCleanNm': 'СЗ ДЖЕВОСС...</td>\n      <td>13</td>\n      <td>9</td>\n      <td>32793</td>\n      <td>6</td>\n      <td>True</td>\n      <td>16-08-2022 01:17</td>\n      <td>https://xn--80az8a.xn--d1aqf.xn--p1ai/api/ext/...</td>\n      <td>...</td>\n      <td>https://xn--80az8a.xn--d1aqf.xn--p1ai/api/ext/...</td>\n      <td>0.863037</td>\n      <td>Монолит-кирпич</td>\n      <td>ООО \"Компания Б.В.С.\" (ИНН: 7703543324)</td>\n      <td>7</td>\n      <td>NaN</td>\n      <td>NaN</td>\n      <td>NaN</td>\n      <td>NaN</td>\n      <td>NaN</td>\n    </tr>\n    <tr>\n      <th>3</th>\n      <td>г Кохма, улица Ивановская, литера В, 5 этап</td>\n      <td>True</td>\n      <td>{'devId': 1577, 'devShortCleanNm': 'СЗ КАПИТАЛ...</td>\n      <td>8</td>\n      <td>8</td>\n      <td>32849</td>\n      <td>5</td>\n      <td>True</td>\n      <td>16-08-2022 01:17</td>\n      <td>https://xn--80az8a.xn--d1aqf.xn--p1ai/api/ext/...</td>\n      <td>...</td>\n      <td>https://xn--80az8a.xn--d1aqf.xn--p1ai/api/ext/...</td>\n      <td>0.874335</td>\n      <td>Монолит-кирпич</td>\n      <td>ООО \"Кохмаситистрой\" (ИНН: 3702149712)</td>\n      <td>NaN</td>\n      <td>NaN</td>\n      <td>NaN</td>\n      <td>NaN</td>\n      <td>NaN</td>\n      <td>NaN</td>\n    </tr>\n    <tr>\n      <th>4</th>\n      <td>г Кемерово, бульвар Строителей, д. 60, корпус 4/1</td>\n      <td>False</td>\n      <td>{'devId': 530, 'devShortCleanNm': 'СЗ ПРОГРАНД...</td>\n      <td>14</td>\n      <td>12</td>\n      <td>32873</td>\n      <td>9</td>\n      <td>True</td>\n      <td>16-08-2022 01:17</td>\n      <td>https://xn--80az8a.xn--d1aqf.xn--p1ai/api/ext/...</td>\n      <td>...</td>\n      <td>https://xn--80az8a.xn--d1aqf.xn--p1ai/api/ext/...</td>\n      <td>0.985498</td>\n      <td>Кирпич</td>\n      <td>ООО \"Жилищник-2\" (ИНН: 4206024725)</td>\n      <td>NaN</td>\n      <td>NaN</td>\n      <td>NaN</td>\n      <td>NaN</td>\n      <td>NaN</td>\n      <td>NaN</td>\n    </tr>\n    <tr>\n      <th>...</th>\n      <td>...</td>\n      <td>...</td>\n      <td>...</td>\n      <td>...</td>\n      <td>...</td>\n      <td>...</td>\n      <td>...</td>\n      <td>...</td>\n      <td>...</td>\n      <td>...</td>\n      <td>...</td>\n      <td>...</td>\n      <td>...</td>\n      <td>...</td>\n      <td>...</td>\n      <td>...</td>\n      <td>...</td>\n      <td>...</td>\n      <td>...</td>\n      <td>...</td>\n      <td>...</td>\n    </tr>\n    <tr>\n      <th>10521</th>\n      <td>город Хабаровск, переулок Гражданский, д. 9</td>\n      <td>False</td>\n      <td>{'devId': 7110, 'devShortCleanNm': 'ИНВЕСТ-ДВ'...</td>\n      <td>25</td>\n      <td>25</td>\n      <td>32629</td>\n      <td>9</td>\n      <td>True</td>\n      <td>16-08-2022 01:17</td>\n      <td>https://xn--80az8a.xn--d1aqf.xn--p1ai/api/ext/...</td>\n      <td>...</td>\n      <td>https://xn--80az8a.xn--d1aqf.xn--p1ai/api/ext/...</td>\n      <td>0.613009</td>\n      <td>Монолит-кирпич</td>\n      <td>ООО Стройкор (ИНН: 2723197401)</td>\n      <td>NaN</td>\n      <td>NaN</td>\n      <td>NaN</td>\n      <td>NaN</td>\n      <td>NaN</td>\n      <td>NaN</td>\n    </tr>\n    <tr>\n      <th>10522</th>\n      <td>г Тверь, ул Планерная, д. 10, блок-секция 7,8,9</td>\n      <td>False</td>\n      <td>{'devId': 7689, 'devShortCleanNm': 'СК ОСТ', '...</td>\n      <td>11</td>\n      <td>11</td>\n      <td>32677</td>\n      <td>8</td>\n      <td>True</td>\n      <td>16-08-2022 01:17</td>\n      <td>https://xn--80az8a.xn--d1aqf.xn--p1ai/api/ext/...</td>\n      <td>...</td>\n      <td>https://xn--80az8a.xn--d1aqf.xn--p1ai/api/ext/...</td>\n      <td>1.0</td>\n      <td>Другое</td>\n      <td>ООО Строительная фирма многофункциональный жил...</td>\n      <td>NaN</td>\n      <td>NaN</td>\n      <td>NaN</td>\n      <td>NaN</td>\n      <td>NaN</td>\n      <td>NaN</td>\n    </tr>\n    <tr>\n      <th>10523</th>\n      <td>г Москва, набережная Павелецкая, вл. 8</td>\n      <td>False</td>\n      <td>{'devId': 2240, 'devShortCleanNm': 'МКПК', 'de...</td>\n      <td>18</td>\n      <td>1</td>\n      <td>32709</td>\n      <td>8</td>\n      <td>True</td>\n      <td>16-08-2022 01:17</td>\n      <td>https://xn--80az8a.xn--d1aqf.xn--p1ai/api/ext/...</td>\n      <td>...</td>\n      <td>https://xn--80az8a.xn--d1aqf.xn--p1ai/api/ext/...</td>\n      <td>1.0</td>\n      <td>Монолит-кирпич</td>\n      <td>ООО СТРОЙИНКОМ-К (ИНН: 7732110251)</td>\n      <td>6</td>\n      <td>2</td>\n      <td>8 / 10</td>\n      <td>8</td>\n      <td>NaN</td>\n      <td>NaN</td>\n    </tr>\n    <tr>\n      <th>10524</th>\n      <td>г Дзержинский, улица Угрешская, д. 19</td>\n      <td>False</td>\n      <td>{'devId': 7019, 'devShortCleanNm': 'СЗ ВСН ИНВ...</td>\n      <td>9</td>\n      <td>9</td>\n      <td>32710</td>\n      <td>8</td>\n      <td>True</td>\n      <td>16-08-2022 01:17</td>\n      <td>https://xn--80az8a.xn--d1aqf.xn--p1ai/api/ext/...</td>\n      <td>...</td>\n      <td>https://xn--80az8a.xn--d1aqf.xn--p1ai/api/ext/...</td>\n      <td>0.006809</td>\n      <td>Монолит-кирпич</td>\n      <td>NaN</td>\n      <td>8</td>\n      <td>NaN</td>\n      <td>NaN</td>\n      <td>NaN</td>\n      <td>NaN</td>\n      <td>NaN</td>\n    </tr>\n    <tr>\n      <th>10525</th>\n      <td>г Пермь, улица Ленская, д. 30</td>\n      <td>False</td>\n      <td>{'devId': 4343, 'devShortCleanNm': 'КМ-ИНВЕСТ'...</td>\n      <td>25</td>\n      <td>25</td>\n      <td>32736</td>\n      <td>3</td>\n      <td>True</td>\n      <td>16-08-2022 01:17</td>\n      <td>https://xn--80az8a.xn--d1aqf.xn--p1ai/api/ext/...</td>\n      <td>...</td>\n      <td>https://xn--80az8a.xn--d1aqf.xn--p1ai/api/ext/...</td>\n      <td>0.211919</td>\n      <td>Другое</td>\n      <td>ООО \"Управляющая компания \"ИнтерСтройИнвест\" (...</td>\n      <td>NaN</td>\n      <td>NaN</td>\n      <td>NaN</td>\n      <td>NaN</td>\n      <td>NaN</td>\n      <td>NaN</td>\n    </tr>\n  </tbody>\n</table>\n<p>10526 rows × 66 columns</p>\n</div>"
     },
     "metadata": {},
     "output_type": "display_data"
    }
   ],
   "source": [
    "display(full_data)"
   ],
   "metadata": {
    "collapsed": false,
    "pycharm": {
     "name": "#%%\n"
    }
   }
  },
  {
   "cell_type": "code",
   "execution_count": 140,
   "outputs": [],
   "source": [
    "full_data.to_excel('full_data.xlsx', index=False)"
   ],
   "metadata": {
    "collapsed": false,
    "pycharm": {
     "name": "#%%\n"
    }
   }
  },
  {
   "cell_type": "code",
   "execution_count": 142,
   "outputs": [],
   "source": [
    "full_data.to_pickle('full_data.pickle')"
   ],
   "metadata": {
    "collapsed": false,
    "pycharm": {
     "name": "#%%\n"
    }
   }
  }
 ],
 "metadata": {
  "kernelspec": {
   "display_name": "Python 3",
   "language": "python",
   "name": "python3"
  },
  "language_info": {
   "codemirror_mode": {
    "name": "ipython",
    "version": 2
   },
   "file_extension": ".py",
   "mimetype": "text/x-python",
   "name": "python",
   "nbconvert_exporter": "python",
   "pygments_lexer": "ipython2",
   "version": "2.7.6"
  }
 },
 "nbformat": 4,
 "nbformat_minor": 0
}