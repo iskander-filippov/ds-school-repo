{
 "cells": [
  {
   "cell_type": "code",
   "execution_count": 1,
   "metadata": {
    "pycharm": {
     "name": "#%%\n"
    }
   },
   "outputs": [],
   "source": [
    "import sqlite3\n",
    "import pandas as pd"
   ]
  },
  {
   "cell_type": "code",
   "execution_count": 2,
   "metadata": {
    "pycharm": {
     "name": "#%%\n"
    }
   },
   "outputs": [],
   "source": [
    "con = sqlite3.connect(\":memory:\")\n",
    "cur = con.cursor()"
   ]
  },
  {
   "cell_type": "markdown",
   "metadata": {
    "pycharm": {
     "name": "#%% md\n"
    }
   },
   "source": [
    "https://www.cs.toronto.edu/~delve/data/boston/bostonDetail.html"
   ]
  },
  {
   "cell_type": "code",
   "execution_count": 3,
   "metadata": {
    "pycharm": {
     "name": "#%%\n"
    }
   },
   "outputs": [],
   "source": [
    "link = 'https://raw.githubusercontent.com/eric-bunch/boston_housing/master/boston.csv'"
   ]
  },
  {
   "cell_type": "code",
   "execution_count": 4,
   "metadata": {
    "pycharm": {
     "name": "#%%\n"
    }
   },
   "outputs": [],
   "source": [
    "data = pd.read_csv(link)\n",
    "data.rename(columns = {'MDEV':'MEDV'}, inplace=True)"
   ]
  },
  {
   "cell_type": "code",
   "execution_count": 5,
   "metadata": {
    "pycharm": {
     "name": "#%%\n"
    }
   },
   "outputs": [
    {
     "data": {
      "text/plain": "506"
     },
     "execution_count": 5,
     "metadata": {},
     "output_type": "execute_result"
    }
   ],
   "source": [
    "data.to_sql(\"boston\", con, index=False, if_exists=\"replace\")"
   ]
  },
  {
   "cell_type": "code",
   "execution_count": 27,
   "metadata": {
    "scrolled": true,
    "pycharm": {
     "name": "#%%\n"
    }
   },
   "outputs": [
    {
     "data": {
      "text/plain": "      CRIM    ZN  INDUS  CHAS    NOX     RM   AGE     DIS  RAD    TAX  \\\n0  0.00632  18.0   2.31   0.0  0.538  6.575  65.2  4.0900  1.0  296.0   \n1  0.02731   0.0   7.07   0.0  0.469  6.421  78.9  4.9671  2.0  242.0   \n2  0.02729   0.0   7.07   0.0  0.469  7.185  61.1  4.9671  2.0  242.0   \n3  0.03237   0.0   2.18   0.0  0.458  6.998  45.8  6.0622  3.0  222.0   \n4  0.06905   0.0   2.18   0.0  0.458  7.147  54.2  6.0622  3.0  222.0   \n\n   PTRATIO       B  LSTAT  MEDV  \n0     15.3  396.90   4.98  24.0  \n1     17.8  396.90   9.14  21.6  \n2     17.8  392.83   4.03  34.7  \n3     18.7  394.63   2.94  33.4  \n4     18.7  396.90   5.33  36.2  ",
      "text/html": "<div>\n<style scoped>\n    .dataframe tbody tr th:only-of-type {\n        vertical-align: middle;\n    }\n\n    .dataframe tbody tr th {\n        vertical-align: top;\n    }\n\n    .dataframe thead th {\n        text-align: right;\n    }\n</style>\n<table border=\"1\" class=\"dataframe\">\n  <thead>\n    <tr style=\"text-align: right;\">\n      <th></th>\n      <th>CRIM</th>\n      <th>ZN</th>\n      <th>INDUS</th>\n      <th>CHAS</th>\n      <th>NOX</th>\n      <th>RM</th>\n      <th>AGE</th>\n      <th>DIS</th>\n      <th>RAD</th>\n      <th>TAX</th>\n      <th>PTRATIO</th>\n      <th>B</th>\n      <th>LSTAT</th>\n      <th>MEDV</th>\n    </tr>\n  </thead>\n  <tbody>\n    <tr>\n      <th>0</th>\n      <td>0.00632</td>\n      <td>18.0</td>\n      <td>2.31</td>\n      <td>0.0</td>\n      <td>0.538</td>\n      <td>6.575</td>\n      <td>65.2</td>\n      <td>4.0900</td>\n      <td>1.0</td>\n      <td>296.0</td>\n      <td>15.3</td>\n      <td>396.90</td>\n      <td>4.98</td>\n      <td>24.0</td>\n    </tr>\n    <tr>\n      <th>1</th>\n      <td>0.02731</td>\n      <td>0.0</td>\n      <td>7.07</td>\n      <td>0.0</td>\n      <td>0.469</td>\n      <td>6.421</td>\n      <td>78.9</td>\n      <td>4.9671</td>\n      <td>2.0</td>\n      <td>242.0</td>\n      <td>17.8</td>\n      <td>396.90</td>\n      <td>9.14</td>\n      <td>21.6</td>\n    </tr>\n    <tr>\n      <th>2</th>\n      <td>0.02729</td>\n      <td>0.0</td>\n      <td>7.07</td>\n      <td>0.0</td>\n      <td>0.469</td>\n      <td>7.185</td>\n      <td>61.1</td>\n      <td>4.9671</td>\n      <td>2.0</td>\n      <td>242.0</td>\n      <td>17.8</td>\n      <td>392.83</td>\n      <td>4.03</td>\n      <td>34.7</td>\n    </tr>\n    <tr>\n      <th>3</th>\n      <td>0.03237</td>\n      <td>0.0</td>\n      <td>2.18</td>\n      <td>0.0</td>\n      <td>0.458</td>\n      <td>6.998</td>\n      <td>45.8</td>\n      <td>6.0622</td>\n      <td>3.0</td>\n      <td>222.0</td>\n      <td>18.7</td>\n      <td>394.63</td>\n      <td>2.94</td>\n      <td>33.4</td>\n    </tr>\n    <tr>\n      <th>4</th>\n      <td>0.06905</td>\n      <td>0.0</td>\n      <td>2.18</td>\n      <td>0.0</td>\n      <td>0.458</td>\n      <td>7.147</td>\n      <td>54.2</td>\n      <td>6.0622</td>\n      <td>3.0</td>\n      <td>222.0</td>\n      <td>18.7</td>\n      <td>396.90</td>\n      <td>5.33</td>\n      <td>36.2</td>\n    </tr>\n  </tbody>\n</table>\n</div>"
     },
     "execution_count": 27,
     "metadata": {},
     "output_type": "execute_result"
    }
   ],
   "source": [
    "pd.read_sql(\n",
    "    \"\"\"\n",
    "    SELECT * FROM boston\n",
    "    limit 5\n",
    "    \"\"\",\n",
    "    con,\n",
    ")"
   ]
  },
  {
   "cell_type": "markdown",
   "metadata": {
    "pycharm": {
     "name": "#%% md\n"
    }
   },
   "source": [
    "1. Выведите количество пустых значений по колонкам CRIM, ZN, INDUS, CHAS, NOX (название колонки, кол-во пустых значений)"
   ]
  },
  {
   "cell_type": "code",
   "execution_count": 14,
   "metadata": {
    "pycharm": {
     "name": "#%%\n"
    }
   },
   "outputs": [
    {
     "data": {
      "text/plain": "     COL  NULL_COUNT\n0   CHAS           0\n1   CRIM           0\n2  INDUS           0\n3    NOX           0\n4     ZN           0",
      "text/html": "<div>\n<style scoped>\n    .dataframe tbody tr th:only-of-type {\n        vertical-align: middle;\n    }\n\n    .dataframe tbody tr th {\n        vertical-align: top;\n    }\n\n    .dataframe thead th {\n        text-align: right;\n    }\n</style>\n<table border=\"1\" class=\"dataframe\">\n  <thead>\n    <tr style=\"text-align: right;\">\n      <th></th>\n      <th>COL</th>\n      <th>NULL_COUNT</th>\n    </tr>\n  </thead>\n  <tbody>\n    <tr>\n      <th>0</th>\n      <td>CHAS</td>\n      <td>0</td>\n    </tr>\n    <tr>\n      <th>1</th>\n      <td>CRIM</td>\n      <td>0</td>\n    </tr>\n    <tr>\n      <th>2</th>\n      <td>INDUS</td>\n      <td>0</td>\n    </tr>\n    <tr>\n      <th>3</th>\n      <td>NOX</td>\n      <td>0</td>\n    </tr>\n    <tr>\n      <th>4</th>\n      <td>ZN</td>\n      <td>0</td>\n    </tr>\n  </tbody>\n</table>\n</div>"
     },
     "execution_count": 14,
     "metadata": {},
     "output_type": "execute_result"
    }
   ],
   "source": [
    "pd.read_sql(\n",
    "    \"\"\"\n",
    "    SELECT\n",
    "        'CRIM' AS COL,\n",
    "        COUNT(CRIM) AS NULL_COUNT\n",
    "    FROM boston\n",
    "    WHERE CRIM IS NULL\n",
    "    UNION\n",
    "    SELECT\n",
    "        'ZN' AS COL,\n",
    "        COUNT(ZN) AS NULL_COUNT\n",
    "    FROM boston\n",
    "    WHERE ZN IS NULL\n",
    "    UNION\n",
    "    SELECT\n",
    "        'INDUS' AS COL,\n",
    "        COUNT(INDUS) AS NULL_COUNT\n",
    "    FROM boston\n",
    "    WHERE INDUS IS NULL\n",
    "    UNION\n",
    "    SELECT\n",
    "        'CHAS' AS COL,\n",
    "        COUNT(CHAS) AS NULL_COUNT\n",
    "    FROM boston\n",
    "    WHERE CHAS IS NULL\n",
    "    UNION\n",
    "    SELECT\n",
    "        'NOX' AS COL,\n",
    "        COUNT(NOX) AS NULL_COUNT\n",
    "    FROM boston\n",
    "    WHERE NOX IS NULL\n",
    "    \"\"\",\n",
    "    con,\n",
    ")"
   ]
  },
  {
   "cell_type": "code",
   "execution_count": 17,
   "outputs": [
    {
     "name": "stdout",
     "output_type": "stream",
     "text": [
      "<class 'pandas.core.frame.DataFrame'>\n",
      "RangeIndex: 506 entries, 0 to 505\n",
      "Data columns (total 5 columns):\n",
      " #   Column  Non-Null Count  Dtype  \n",
      "---  ------  --------------  -----  \n",
      " 0   CHAS    506 non-null    float64\n",
      " 1   CRIM    506 non-null    float64\n",
      " 2   INDUS   506 non-null    float64\n",
      " 3   NOX     506 non-null    float64\n",
      " 4   ZN      506 non-null    float64\n",
      "dtypes: float64(5)\n",
      "memory usage: 19.9 KB\n"
     ]
    }
   ],
   "source": [
    "# проверим полученные значения средствами pandas\n",
    "data[['CHAS', 'CRIM', 'INDUS', 'NOX', 'ZN']].info()"
   ],
   "metadata": {
    "collapsed": false,
    "pycharm": {
     "name": "#%%\n"
    }
   }
  },
  {
   "cell_type": "markdown",
   "metadata": {
    "pycharm": {
     "name": "#%% md\n"
    }
   },
   "source": [
    "2. Выведите количество уникальных значений по колонокам CRIM, ZN, INDUS, CHAS, NOX (название колонки, кол-во уникальных значений)"
   ]
  },
  {
   "cell_type": "code",
   "execution_count": 16,
   "metadata": {
    "pycharm": {
     "name": "#%%\n"
    }
   },
   "outputs": [
    {
     "data": {
      "text/plain": "     COL  DIST_COUNT\n0   CHAS           2\n1   CRIM         504\n2  INDUS          76\n3    NOX          81\n4     ZN          26",
      "text/html": "<div>\n<style scoped>\n    .dataframe tbody tr th:only-of-type {\n        vertical-align: middle;\n    }\n\n    .dataframe tbody tr th {\n        vertical-align: top;\n    }\n\n    .dataframe thead th {\n        text-align: right;\n    }\n</style>\n<table border=\"1\" class=\"dataframe\">\n  <thead>\n    <tr style=\"text-align: right;\">\n      <th></th>\n      <th>COL</th>\n      <th>DIST_COUNT</th>\n    </tr>\n  </thead>\n  <tbody>\n    <tr>\n      <th>0</th>\n      <td>CHAS</td>\n      <td>2</td>\n    </tr>\n    <tr>\n      <th>1</th>\n      <td>CRIM</td>\n      <td>504</td>\n    </tr>\n    <tr>\n      <th>2</th>\n      <td>INDUS</td>\n      <td>76</td>\n    </tr>\n    <tr>\n      <th>3</th>\n      <td>NOX</td>\n      <td>81</td>\n    </tr>\n    <tr>\n      <th>4</th>\n      <td>ZN</td>\n      <td>26</td>\n    </tr>\n  </tbody>\n</table>\n</div>"
     },
     "execution_count": 16,
     "metadata": {},
     "output_type": "execute_result"
    }
   ],
   "source": [
    "pd.read_sql(\n",
    "    \"\"\"\n",
    "    SELECT\n",
    "        'CRIM' AS COL,\n",
    "        COUNT(DISTINCT CRIM) AS DIST_COUNT\n",
    "    FROM boston\n",
    "    UNION\n",
    "    SELECT\n",
    "        'ZN' AS COL,\n",
    "        COUNT(DISTINCT ZN) AS DIST_COUNT\n",
    "    FROM boston\n",
    "    UNION\n",
    "    SELECT\n",
    "        'INDUS' AS COL,\n",
    "        COUNT(DISTINCT INDUS) AS DIST_COUNT\n",
    "    FROM boston\n",
    "    UNION\n",
    "    SELECT\n",
    "        'CHAS' AS COL,\n",
    "        COUNT(DISTINCT CHAS) AS DIST_COUNT\n",
    "    FROM boston\n",
    "    UNION\n",
    "    SELECT\n",
    "        'NOX' AS COL,\n",
    "        COUNT(DISTINCT NOX) AS DIST_COUNT\n",
    "    FROM boston\n",
    "    \"\"\",\n",
    "    con,\n",
    ")"
   ]
  },
  {
   "cell_type": "code",
   "execution_count": 22,
   "outputs": [
    {
     "data": {
      "text/plain": "CHAS       2\nCRIM     504\nINDUS     76\nNOX       81\nZN        26\ndtype: int64"
     },
     "execution_count": 22,
     "metadata": {},
     "output_type": "execute_result"
    }
   ],
   "source": [
    "# проверим полученные значения средствами pandas\n",
    "data[['CHAS', 'CRIM', 'INDUS', 'NOX', 'ZN']].nunique()"
   ],
   "metadata": {
    "collapsed": false,
    "pycharm": {
     "name": "#%%\n"
    }
   }
  },
  {
   "cell_type": "markdown",
   "metadata": {
    "pycharm": {
     "name": "#%% md\n"
    }
   },
   "source": [
    "3. Выведите колонки, у которых медиана равна минимальному значению (название колонки) выбирая из CRIM, ZN, INDUS, CHAS, NOX.\n",
    "Напишите какой вывод можно сделать по данным в этих колонках"
   ]
  },
  {
   "cell_type": "code",
   "execution_count": 43,
   "metadata": {
    "pycharm": {
     "name": "#%%\n"
    }
   },
   "outputs": [
    {
     "data": {
      "text/plain": "    COL\n0  CHAS\n1    ZN",
      "text/html": "<div>\n<style scoped>\n    .dataframe tbody tr th:only-of-type {\n        vertical-align: middle;\n    }\n\n    .dataframe tbody tr th {\n        vertical-align: top;\n    }\n\n    .dataframe thead th {\n        text-align: right;\n    }\n</style>\n<table border=\"1\" class=\"dataframe\">\n  <thead>\n    <tr style=\"text-align: right;\">\n      <th></th>\n      <th>COL</th>\n    </tr>\n  </thead>\n  <tbody>\n    <tr>\n      <th>0</th>\n      <td>CHAS</td>\n    </tr>\n    <tr>\n      <th>1</th>\n      <td>ZN</td>\n    </tr>\n  </tbody>\n</table>\n</div>"
     },
     "execution_count": 43,
     "metadata": {},
     "output_type": "execute_result"
    }
   ],
   "source": [
    "pd.read_sql(\n",
    "    \"\"\"\n",
    "    WITH STATS AS (\n",
    "        SELECT\n",
    "            'CRIM' AS COL,\n",
    "            MIN(CRIM) AS MIN_VALUE,\n",
    "            (SELECT AVG(CRIM) FROM (SELECT CRIM FROM boston ORDER BY CRIM LIMIT 2 OFFSET 252)) AS MED_VALUE\n",
    "        FROM boston\n",
    "        UNION\n",
    "        SELECT\n",
    "            'ZN' AS COL,\n",
    "            MIN(ZN) AS MIN_VALUE,\n",
    "            (SELECT AVG(ZN) FROM (SELECT ZN FROM boston ORDER BY ZN LIMIT 2 OFFSET 252)) AS MED_VALUE\n",
    "        FROM boston\n",
    "        UNION\n",
    "        SELECT\n",
    "            'INDUS' AS COL,\n",
    "            MIN(INDUS) AS MIN_VALUE,\n",
    "            (SELECT AVG(INDUS) FROM (SELECT INDUS FROM boston ORDER BY INDUS LIMIT 2 OFFSET 252)) AS MED_VALUE\n",
    "        FROM boston\n",
    "        UNION\n",
    "        SELECT\n",
    "            'CHAS' AS COL,\n",
    "            MIN(CHAS) AS MIN_VALUE,\n",
    "            (SELECT AVG(CHAS) FROM (SELECT CHAS FROM boston ORDER BY CHAS LIMIT 2 OFFSET 252)) AS MED_VALUE\n",
    "        FROM boston\n",
    "        UNION\n",
    "        SELECT\n",
    "            'NOX' AS COL,\n",
    "            MIN(NOX) AS MIN_VALUE,\n",
    "            (SELECT AVG(NOX) FROM (SELECT NOX FROM boston ORDER BY NOX LIMIT 2 OFFSET 252)) AS MED_VALUE\n",
    "        FROM boston\n",
    "    )\n",
    "\n",
    "    SELECT\n",
    "        COL\n",
    "    FROM STATS\n",
    "    WHERE MIN_VALUE = MED_VALUE\n",
    "    \"\"\",\n",
    "    con,\n",
    ")"
   ]
  },
  {
   "cell_type": "code",
   "execution_count": 71,
   "outputs": [
    {
     "data": {
      "text/plain": "CHAS     0.00000\nCRIM     0.25651\nINDUS    9.69000\nNOX      0.53800\nZN       0.00000\ndtype: float64"
     },
     "execution_count": 71,
     "metadata": {},
     "output_type": "execute_result"
    }
   ],
   "source": [
    "# проверим полученные значения средствами pandas\n",
    "data[['CHAS', 'CRIM', 'INDUS', 'NOX', 'ZN']].median()"
   ],
   "metadata": {
    "collapsed": false,
    "pycharm": {
     "name": "#%%\n"
    }
   }
  },
  {
   "cell_type": "code",
   "execution_count": 44,
   "outputs": [
    {
     "data": {
      "text/plain": "CHAS     0.00000\nCRIM     0.00632\nINDUS    0.46000\nNOX      0.38500\nZN       0.00000\ndtype: float64"
     },
     "execution_count": 44,
     "metadata": {},
     "output_type": "execute_result"
    }
   ],
   "source": [
    "data[['CHAS', 'CRIM', 'INDUS', 'NOX', 'ZN']].min()"
   ],
   "metadata": {
    "collapsed": false,
    "pycharm": {
     "name": "#%%\n"
    }
   }
  },
  {
   "cell_type": "markdown",
   "metadata": {
    "pycharm": {
     "name": "#%% md\n"
    }
   },
   "source": [
    "4. Выведите разницу между среднем количеством комнат(RM) в домах с самой дорогой стоимостью(MEDV) и 25 самыми дешевыми домами. \n",
    "Аналогично по 50, 100, 200, 300 самыми дешевыми домами. (кол-во домов(25,50,100,200,300), среднее кол-во комнат в них, среднее кол-во комнат в самых дорогих, разница).\n",
    "Напишите влияет ли кол-во комнат на стоимость и как сильно."
   ]
  },
  {
   "cell_type": "code",
   "execution_count": 41,
   "metadata": {
    "pycharm": {
     "name": "#%%\n"
    }
   },
   "outputs": [
    {
     "data": {
      "text/plain": "    COL  MIN_VALUE  MED_VALUE\n0  CRIM    0.00632    0.25651",
      "text/html": "<div>\n<style scoped>\n    .dataframe tbody tr th:only-of-type {\n        vertical-align: middle;\n    }\n\n    .dataframe tbody tr th {\n        vertical-align: top;\n    }\n\n    .dataframe thead th {\n        text-align: right;\n    }\n</style>\n<table border=\"1\" class=\"dataframe\">\n  <thead>\n    <tr style=\"text-align: right;\">\n      <th></th>\n      <th>COL</th>\n      <th>MIN_VALUE</th>\n      <th>MED_VALUE</th>\n    </tr>\n  </thead>\n  <tbody>\n    <tr>\n      <th>0</th>\n      <td>CRIM</td>\n      <td>0.00632</td>\n      <td>0.25651</td>\n    </tr>\n  </tbody>\n</table>\n</div>"
     },
     "execution_count": 41,
     "metadata": {},
     "output_type": "execute_result"
    }
   ],
   "source": [
    "pd.read_sql(\n",
    "    \"\"\"\n",
    "    SELECT\n",
    "        'CRIM' AS COL,\n",
    "        MIN(CRIM) AS MIN_VALUE,\n",
    "        (SELECT AVG(CRIM) FROM (SELECT CRIM FROM boston ORDER BY CRIM LIMIT 2 OFFSET 252)) AS MED_VALUE\n",
    "    FROM boston\n",
    "    \"\"\",\n",
    "    con,\n",
    ")"
   ]
  },
  {
   "cell_type": "markdown",
   "metadata": {
    "pycharm": {
     "name": "#%% md\n"
    }
   },
   "source": [
    "5. Выведите ранги значений колонки LSTAT(процент населения с более низким статусом) в домах с самой дорогой стоимостью (значение LSTAT, стоимость, ранг). Напишите какой вывод можно сделать по этим данным."
   ]
  },
  {
   "cell_type": "code",
   "execution_count": 82,
   "metadata": {
    "pycharm": {
     "name": "#%%\n"
    }
   },
   "outputs": [
    {
     "data": {
      "text/plain": "    LSTAT  MEDV  RANK() OVER (ORDER BY LSTAT)\n0    1.73  50.0                             1\n1    1.92  50.0                             2\n2    2.88  50.0                             3\n3    2.96  50.0                             4\n4    2.97  50.0                             5\n5    3.16  50.0                             6\n6    3.26  50.0                             7\n7    3.32  50.0                             8\n8    3.70  50.0                             9\n9    3.73  50.0                            10\n10   4.45  50.0                            11\n11   4.63  50.0                            12\n12   5.12  50.0                            13\n13   7.44  50.0                            14\n14   8.88  50.0                            15\n15   9.53  50.0                            16",
      "text/html": "<div>\n<style scoped>\n    .dataframe tbody tr th:only-of-type {\n        vertical-align: middle;\n    }\n\n    .dataframe tbody tr th {\n        vertical-align: top;\n    }\n\n    .dataframe thead th {\n        text-align: right;\n    }\n</style>\n<table border=\"1\" class=\"dataframe\">\n  <thead>\n    <tr style=\"text-align: right;\">\n      <th></th>\n      <th>LSTAT</th>\n      <th>MEDV</th>\n      <th>RANK() OVER (ORDER BY LSTAT)</th>\n    </tr>\n  </thead>\n  <tbody>\n    <tr>\n      <th>0</th>\n      <td>1.73</td>\n      <td>50.0</td>\n      <td>1</td>\n    </tr>\n    <tr>\n      <th>1</th>\n      <td>1.92</td>\n      <td>50.0</td>\n      <td>2</td>\n    </tr>\n    <tr>\n      <th>2</th>\n      <td>2.88</td>\n      <td>50.0</td>\n      <td>3</td>\n    </tr>\n    <tr>\n      <th>3</th>\n      <td>2.96</td>\n      <td>50.0</td>\n      <td>4</td>\n    </tr>\n    <tr>\n      <th>4</th>\n      <td>2.97</td>\n      <td>50.0</td>\n      <td>5</td>\n    </tr>\n    <tr>\n      <th>5</th>\n      <td>3.16</td>\n      <td>50.0</td>\n      <td>6</td>\n    </tr>\n    <tr>\n      <th>6</th>\n      <td>3.26</td>\n      <td>50.0</td>\n      <td>7</td>\n    </tr>\n    <tr>\n      <th>7</th>\n      <td>3.32</td>\n      <td>50.0</td>\n      <td>8</td>\n    </tr>\n    <tr>\n      <th>8</th>\n      <td>3.70</td>\n      <td>50.0</td>\n      <td>9</td>\n    </tr>\n    <tr>\n      <th>9</th>\n      <td>3.73</td>\n      <td>50.0</td>\n      <td>10</td>\n    </tr>\n    <tr>\n      <th>10</th>\n      <td>4.45</td>\n      <td>50.0</td>\n      <td>11</td>\n    </tr>\n    <tr>\n      <th>11</th>\n      <td>4.63</td>\n      <td>50.0</td>\n      <td>12</td>\n    </tr>\n    <tr>\n      <th>12</th>\n      <td>5.12</td>\n      <td>50.0</td>\n      <td>13</td>\n    </tr>\n    <tr>\n      <th>13</th>\n      <td>7.44</td>\n      <td>50.0</td>\n      <td>14</td>\n    </tr>\n    <tr>\n      <th>14</th>\n      <td>8.88</td>\n      <td>50.0</td>\n      <td>15</td>\n    </tr>\n    <tr>\n      <th>15</th>\n      <td>9.53</td>\n      <td>50.0</td>\n      <td>16</td>\n    </tr>\n  </tbody>\n</table>\n</div>"
     },
     "execution_count": 82,
     "metadata": {},
     "output_type": "execute_result"
    }
   ],
   "source": [
    "pd.read_sql(\n",
    "    \"\"\"\n",
    "    SELECT\n",
    "        LSTAT,\n",
    "        MEDV,\n",
    "        RANK() OVER (ORDER BY LSTAT)\n",
    "    FROM boston\n",
    "    WHERE MEDV = (SELECT MAX(MEDV) FROM boston)\n",
    "    \"\"\",\n",
    "    con,\n",
    ")"
   ]
  },
  {
   "cell_type": "markdown",
   "metadata": {
    "pycharm": {
     "name": "#%% md\n"
    }
   },
   "source": [
    "6. Выведите среднюю стоимость домов граничащих с рекой(CHAS) и нет (граничит/не граничит, стоимость)"
   ]
  },
  {
   "cell_type": "code",
   "execution_count": 50,
   "metadata": {
    "pycharm": {
     "name": "#%%\n"
    }
   },
   "outputs": [
    {
     "data": {
      "text/plain": "  RIVER  AVG_PRICE\n0    NO  22.093843\n1   YES  28.440000",
      "text/html": "<div>\n<style scoped>\n    .dataframe tbody tr th:only-of-type {\n        vertical-align: middle;\n    }\n\n    .dataframe tbody tr th {\n        vertical-align: top;\n    }\n\n    .dataframe thead th {\n        text-align: right;\n    }\n</style>\n<table border=\"1\" class=\"dataframe\">\n  <thead>\n    <tr style=\"text-align: right;\">\n      <th></th>\n      <th>RIVER</th>\n      <th>AVG_PRICE</th>\n    </tr>\n  </thead>\n  <tbody>\n    <tr>\n      <th>0</th>\n      <td>NO</td>\n      <td>22.093843</td>\n    </tr>\n    <tr>\n      <th>1</th>\n      <td>YES</td>\n      <td>28.440000</td>\n    </tr>\n  </tbody>\n</table>\n</div>"
     },
     "execution_count": 50,
     "metadata": {},
     "output_type": "execute_result"
    }
   ],
   "source": [
    "pd.read_sql(\n",
    "    \"\"\"\n",
    "    SELECT\n",
    "        'YES' AS RIVER,\n",
    "        (SELECT AVG(MEDV) FROM boston WHERE CHAS = 1) AS AVG_PRICE\n",
    "    UNION\n",
    "    SELECT\n",
    "        'NO' AS RIVER,\n",
    "        (SELECT AVG(MEDV) FROM boston WHERE CHAS = 0) AS AVG_PRICE\n",
    "    \"\"\",\n",
    "    con,\n",
    ")"
   ]
  },
  {
   "cell_type": "code",
   "execution_count": 51,
   "outputs": [
    {
     "data": {
      "text/plain": "           MEDV\nCHAS           \n0.0   22.093843\n1.0   28.440000",
      "text/html": "<div>\n<style scoped>\n    .dataframe tbody tr th:only-of-type {\n        vertical-align: middle;\n    }\n\n    .dataframe tbody tr th {\n        vertical-align: top;\n    }\n\n    .dataframe thead th {\n        text-align: right;\n    }\n</style>\n<table border=\"1\" class=\"dataframe\">\n  <thead>\n    <tr style=\"text-align: right;\">\n      <th></th>\n      <th>MEDV</th>\n    </tr>\n    <tr>\n      <th>CHAS</th>\n      <th></th>\n    </tr>\n  </thead>\n  <tbody>\n    <tr>\n      <th>0.0</th>\n      <td>22.093843</td>\n    </tr>\n    <tr>\n      <th>1.0</th>\n      <td>28.440000</td>\n    </tr>\n  </tbody>\n</table>\n</div>"
     },
     "execution_count": 51,
     "metadata": {},
     "output_type": "execute_result"
    }
   ],
   "source": [
    "# проверим полученные значения средствами pandas\n",
    "data.groupby('CHAS').agg({'MEDV': 'mean'})"
   ],
   "metadata": {
    "collapsed": false,
    "pycharm": {
     "name": "#%%\n"
    }
   }
  },
  {
   "cell_type": "markdown",
   "metadata": {
    "pycharm": {
     "name": "#%% md\n"
    }
   },
   "source": [
    "7. Выведите все колонки, у которых среднее значение выше, когда дом граничит с рекой (название колонки) выбирая из CRIM, ZN, INDUS, CHAS, NOX. Напишите какой вывод можно сделать по этим данным."
   ]
  },
  {
   "cell_type": "code",
   "execution_count": 56,
   "metadata": {
    "pycharm": {
     "name": "#%%\n"
    }
   },
   "outputs": [
    {
     "data": {
      "text/plain": "     COL\n0   CHAS\n1  INDUS\n2    NOX",
      "text/html": "<div>\n<style scoped>\n    .dataframe tbody tr th:only-of-type {\n        vertical-align: middle;\n    }\n\n    .dataframe tbody tr th {\n        vertical-align: top;\n    }\n\n    .dataframe thead th {\n        text-align: right;\n    }\n</style>\n<table border=\"1\" class=\"dataframe\">\n  <thead>\n    <tr style=\"text-align: right;\">\n      <th></th>\n      <th>COL</th>\n    </tr>\n  </thead>\n  <tbody>\n    <tr>\n      <th>0</th>\n      <td>CHAS</td>\n    </tr>\n    <tr>\n      <th>1</th>\n      <td>INDUS</td>\n    </tr>\n    <tr>\n      <th>2</th>\n      <td>NOX</td>\n    </tr>\n  </tbody>\n</table>\n</div>"
     },
     "execution_count": 56,
     "metadata": {},
     "output_type": "execute_result"
    }
   ],
   "source": [
    "pd.read_sql(\n",
    "    \"\"\"\n",
    "    WITH STATS AS (\n",
    "        SELECT\n",
    "            'CRIM' AS COL,\n",
    "            (SELECT AVG(CRIM) FROM boston WHERE CHAS = 1) AS AVG_1,\n",
    "            (SELECT AVG(CRIM) FROM boston WHERE CHAS = 0) AS AVG_0\n",
    "        UNION\n",
    "        SELECT\n",
    "            'ZN' AS COL,\n",
    "            (SELECT AVG(ZN) FROM boston WHERE CHAS = 1) AS AVG_1,\n",
    "            (SELECT AVG(ZN) FROM boston WHERE CHAS = 0) AS AVG_0\n",
    "        UNION\n",
    "        SELECT\n",
    "            'INDUS' AS COL,\n",
    "            (SELECT AVG(INDUS) FROM boston WHERE CHAS = 1) AS AVG_1,\n",
    "            (SELECT AVG(INDUS) FROM boston WHERE CHAS = 0) AS AVG_0\n",
    "        UNION\n",
    "        SELECT\n",
    "            'CHAS' AS COL,\n",
    "            (SELECT AVG(CHAS) FROM boston WHERE CHAS = 1) AS AVG_1,\n",
    "            (SELECT AVG(CHAS) FROM boston WHERE CHAS = 0) AS AVG_0\n",
    "        UNION\n",
    "        SELECT\n",
    "            'NOX' AS COL,\n",
    "            (SELECT AVG(NOX) FROM boston WHERE CHAS = 1) AS AVG_1,\n",
    "            (SELECT AVG(NOX) FROM boston WHERE CHAS = 0) AS AVG_0\n",
    "    )\n",
    "\n",
    "    SELECT\n",
    "        COL\n",
    "    FROM STATS\n",
    "    WHERE AVG_1 > AVG_0\n",
    "    \"\"\",\n",
    "    con,\n",
    ")"
   ]
  },
  {
   "cell_type": "code",
   "execution_count": 55,
   "outputs": [
    {
     "data": {
      "text/plain": "          CRIM      INDUS       NOX         ZN\nCHAS                                          \n0.0   3.723215  11.019193  0.551817  11.634820\n1.0   1.851670  12.719143  0.593426   7.714286",
      "text/html": "<div>\n<style scoped>\n    .dataframe tbody tr th:only-of-type {\n        vertical-align: middle;\n    }\n\n    .dataframe tbody tr th {\n        vertical-align: top;\n    }\n\n    .dataframe thead th {\n        text-align: right;\n    }\n</style>\n<table border=\"1\" class=\"dataframe\">\n  <thead>\n    <tr style=\"text-align: right;\">\n      <th></th>\n      <th>CRIM</th>\n      <th>INDUS</th>\n      <th>NOX</th>\n      <th>ZN</th>\n    </tr>\n    <tr>\n      <th>CHAS</th>\n      <th></th>\n      <th></th>\n      <th></th>\n      <th></th>\n    </tr>\n  </thead>\n  <tbody>\n    <tr>\n      <th>0.0</th>\n      <td>3.723215</td>\n      <td>11.019193</td>\n      <td>0.551817</td>\n      <td>11.634820</td>\n    </tr>\n    <tr>\n      <th>1.0</th>\n      <td>1.851670</td>\n      <td>12.719143</td>\n      <td>0.593426</td>\n      <td>7.714286</td>\n    </tr>\n  </tbody>\n</table>\n</div>"
     },
     "execution_count": 55,
     "metadata": {},
     "output_type": "execute_result"
    }
   ],
   "source": [
    "# проверим полученные значения средствами pandas\n",
    "data[['CHAS', 'CRIM', 'INDUS', 'NOX', 'ZN']].groupby('CHAS').mean()"
   ],
   "metadata": {
    "collapsed": false,
    "pycharm": {
     "name": "#%%\n"
    }
   }
  },
  {
   "cell_type": "markdown",
   "metadata": {
    "pycharm": {
     "name": "#%% md\n"
    }
   },
   "source": [
    "8. Выведите значения долей промышленной застройки(INDUS), концентрации оксидов азота(NOX) и по их перцентилям - 10, 20 ... 100 ( перцетиль(10,20...100),значение INDUS, значение NOX). Напишите прослеживается между ними взаимосвязь"
   ]
  },
  {
   "cell_type": "code",
   "execution_count": 70,
   "metadata": {
    "pycharm": {
     "name": "#%%\n"
    }
   },
   "outputs": [
    {
     "data": {
      "text/plain": "   PERC  INDUS    NOX\n0    10   2.89  0.426\n1    20   4.15  0.442\n2    30   5.86  0.469\n3    40   7.07  0.507\n4    50   9.69  0.538\n5    60  12.83  0.575\n6    70  18.10  0.605\n7    80  18.10  0.668\n8    90  19.58  0.713\n9   100  27.74  0.871",
      "text/html": "<div>\n<style scoped>\n    .dataframe tbody tr th:only-of-type {\n        vertical-align: middle;\n    }\n\n    .dataframe tbody tr th {\n        vertical-align: top;\n    }\n\n    .dataframe thead th {\n        text-align: right;\n    }\n</style>\n<table border=\"1\" class=\"dataframe\">\n  <thead>\n    <tr style=\"text-align: right;\">\n      <th></th>\n      <th>PERC</th>\n      <th>INDUS</th>\n      <th>NOX</th>\n    </tr>\n  </thead>\n  <tbody>\n    <tr>\n      <th>0</th>\n      <td>10</td>\n      <td>2.89</td>\n      <td>0.426</td>\n    </tr>\n    <tr>\n      <th>1</th>\n      <td>20</td>\n      <td>4.15</td>\n      <td>0.442</td>\n    </tr>\n    <tr>\n      <th>2</th>\n      <td>30</td>\n      <td>5.86</td>\n      <td>0.469</td>\n    </tr>\n    <tr>\n      <th>3</th>\n      <td>40</td>\n      <td>7.07</td>\n      <td>0.507</td>\n    </tr>\n    <tr>\n      <th>4</th>\n      <td>50</td>\n      <td>9.69</td>\n      <td>0.538</td>\n    </tr>\n    <tr>\n      <th>5</th>\n      <td>60</td>\n      <td>12.83</td>\n      <td>0.575</td>\n    </tr>\n    <tr>\n      <th>6</th>\n      <td>70</td>\n      <td>18.10</td>\n      <td>0.605</td>\n    </tr>\n    <tr>\n      <th>7</th>\n      <td>80</td>\n      <td>18.10</td>\n      <td>0.668</td>\n    </tr>\n    <tr>\n      <th>8</th>\n      <td>90</td>\n      <td>19.58</td>\n      <td>0.713</td>\n    </tr>\n    <tr>\n      <th>9</th>\n      <td>100</td>\n      <td>27.74</td>\n      <td>0.871</td>\n    </tr>\n  </tbody>\n</table>\n</div>"
     },
     "execution_count": 70,
     "metadata": {},
     "output_type": "execute_result"
    }
   ],
   "source": [
    "pd.read_sql(\n",
    "    \"\"\"\n",
    "    SELECT\n",
    "        10 AS PERC,\n",
    "        (SELECT INDUS FROM boston ORDER BY INDUS LIMIT 1 OFFSET (SELECT COUNT(*) FROM boston) * 1 / 10 - 1) AS INDUS,\n",
    "        (SELECT NOX FROM boston ORDER BY NOX LIMIT 1 OFFSET (SELECT COUNT(*) FROM boston) * 1 / 10 - 1) AS NOX\n",
    "    UNION\n",
    "    SELECT\n",
    "        20 AS PERC,\n",
    "        (SELECT INDUS FROM boston ORDER BY INDUS LIMIT 1 OFFSET (SELECT COUNT(*) FROM boston) * 2 / 10 - 1) AS INDUS,\n",
    "        (SELECT NOX FROM boston ORDER BY NOX LIMIT 1 OFFSET (SELECT COUNT(*) FROM boston) * 2 / 10 - 1) AS NOX\n",
    "    UNION\n",
    "    SELECT\n",
    "        30 AS PERC,\n",
    "        (SELECT INDUS FROM boston ORDER BY INDUS LIMIT 1 OFFSET (SELECT COUNT(*) FROM boston) * 3 / 10 - 1) AS INDUS,\n",
    "        (SELECT NOX FROM boston ORDER BY NOX LIMIT 1 OFFSET (SELECT COUNT(*) FROM boston) * 3 / 10 - 1) AS NOX\n",
    "    UNION\n",
    "    SELECT\n",
    "        40 AS PERC,\n",
    "        (SELECT INDUS FROM boston ORDER BY INDUS LIMIT 1 OFFSET (SELECT COUNT(*) FROM boston) * 4 / 10 - 1) AS INDUS,\n",
    "        (SELECT NOX FROM boston ORDER BY NOX LIMIT 1 OFFSET (SELECT COUNT(*) FROM boston) * 4 / 10 - 1) AS NOX\n",
    "    UNION\n",
    "    SELECT\n",
    "        50 AS PERC,\n",
    "        (SELECT INDUS FROM boston ORDER BY INDUS LIMIT 1 OFFSET (SELECT COUNT(*) FROM boston) * 5 / 10 - 1) AS INDUS,\n",
    "        (SELECT NOX FROM boston ORDER BY NOX LIMIT 1 OFFSET (SELECT COUNT(*) FROM boston) * 5 / 10 - 1) AS NOX\n",
    "    UNION\n",
    "    SELECT\n",
    "        60 AS PERC,\n",
    "        (SELECT INDUS FROM boston ORDER BY INDUS LIMIT 1 OFFSET (SELECT COUNT(*) FROM boston) * 6 / 10 - 1) AS INDUS,\n",
    "        (SELECT NOX FROM boston ORDER BY NOX LIMIT 1 OFFSET (SELECT COUNT(*) FROM boston) * 6 / 10 - 1) AS NOX\n",
    "    UNION\n",
    "    SELECT\n",
    "        70 AS PERC,\n",
    "        (SELECT INDUS FROM boston ORDER BY INDUS LIMIT 1 OFFSET (SELECT COUNT(*) FROM boston) * 7 / 10 - 1) AS INDUS,\n",
    "        (SELECT NOX FROM boston ORDER BY NOX LIMIT 1 OFFSET (SELECT COUNT(*) FROM boston) * 7 / 10 - 1) AS NOX\n",
    "    UNION\n",
    "    SELECT\n",
    "        80 AS PERC,\n",
    "        (SELECT INDUS FROM boston ORDER BY INDUS LIMIT 1 OFFSET (SELECT COUNT(*) FROM boston) * 8 / 10 - 1) AS INDUS,\n",
    "        (SELECT NOX FROM boston ORDER BY NOX LIMIT 1 OFFSET (SELECT COUNT(*) FROM boston) * 8 / 10 - 1) AS NOX\n",
    "    UNION\n",
    "    SELECT\n",
    "        90 AS PERC,\n",
    "        (SELECT INDUS FROM boston ORDER BY INDUS LIMIT 1 OFFSET (SELECT COUNT(*) FROM boston) * 9 / 10 - 1) AS INDUS,\n",
    "        (SELECT NOX FROM boston ORDER BY NOX LIMIT 1 OFFSET (SELECT COUNT(*) FROM boston) * 9 / 10 - 1) AS NOX\n",
    "    UNION\n",
    "    SELECT\n",
    "        100 AS PERC,\n",
    "        (SELECT INDUS FROM boston ORDER BY INDUS LIMIT 1 OFFSET (SELECT COUNT(*) FROM boston) * 10 / 10 - 1) AS INDUS,\n",
    "        (SELECT NOX FROM boston ORDER BY NOX LIMIT 1 OFFSET (SELECT COUNT(*) FROM boston) * 10 / 10 - 1) AS NOX\n",
    "    \"\"\",\n",
    "    con,\n",
    ")"
   ]
  },
  {
   "cell_type": "code",
   "execution_count": 76,
   "metadata": {
    "pycharm": {
     "name": "#%%\n"
    }
   },
   "outputs": [
    {
     "data": {
      "text/plain": "     INDUS    NOX\n0.0   0.46  0.385\n0.1   2.91  0.427\n0.2   4.39  0.442\n0.3   5.96  0.472\n0.4   7.38  0.507\n0.5   9.69  0.538\n0.6  12.83  0.575\n0.7  18.10  0.605\n0.8  18.10  0.668\n0.9  19.58  0.713\n1.0  27.74  0.871",
      "text/html": "<div>\n<style scoped>\n    .dataframe tbody tr th:only-of-type {\n        vertical-align: middle;\n    }\n\n    .dataframe tbody tr th {\n        vertical-align: top;\n    }\n\n    .dataframe thead th {\n        text-align: right;\n    }\n</style>\n<table border=\"1\" class=\"dataframe\">\n  <thead>\n    <tr style=\"text-align: right;\">\n      <th></th>\n      <th>INDUS</th>\n      <th>NOX</th>\n    </tr>\n  </thead>\n  <tbody>\n    <tr>\n      <th>0.0</th>\n      <td>0.46</td>\n      <td>0.385</td>\n    </tr>\n    <tr>\n      <th>0.1</th>\n      <td>2.91</td>\n      <td>0.427</td>\n    </tr>\n    <tr>\n      <th>0.2</th>\n      <td>4.39</td>\n      <td>0.442</td>\n    </tr>\n    <tr>\n      <th>0.3</th>\n      <td>5.96</td>\n      <td>0.472</td>\n    </tr>\n    <tr>\n      <th>0.4</th>\n      <td>7.38</td>\n      <td>0.507</td>\n    </tr>\n    <tr>\n      <th>0.5</th>\n      <td>9.69</td>\n      <td>0.538</td>\n    </tr>\n    <tr>\n      <th>0.6</th>\n      <td>12.83</td>\n      <td>0.575</td>\n    </tr>\n    <tr>\n      <th>0.7</th>\n      <td>18.10</td>\n      <td>0.605</td>\n    </tr>\n    <tr>\n      <th>0.8</th>\n      <td>18.10</td>\n      <td>0.668</td>\n    </tr>\n    <tr>\n      <th>0.9</th>\n      <td>19.58</td>\n      <td>0.713</td>\n    </tr>\n    <tr>\n      <th>1.0</th>\n      <td>27.74</td>\n      <td>0.871</td>\n    </tr>\n  </tbody>\n</table>\n</div>"
     },
     "execution_count": 76,
     "metadata": {},
     "output_type": "execute_result"
    }
   ],
   "source": [
    "# проверим полученные значения средствами pandas\n",
    "data[['INDUS', 'NOX']].quantile([x/10 for x in range(11)], numeric_only=False)"
   ]
  },
  {
   "cell_type": "raw",
   "metadata": {
    "pycharm": {
     "name": "#%% raw\n"
    }
   },
   "source": [
    "CRIM - уровень преступности на душу населения\n",
    "ZN - доля земель под жилую застройку зонирована под участки площадью более 25 000 кв. футов.\n",
    "INDUS - доля акров неторгового бизнеса на город.\n",
    "CHAS - 1, если граничит с рекой, 0 иначе\n",
    "NOX - концентрация оксидов азота (частей на 10 миллионов)\n",
    "RM - среднее количество комнат в квартире\n",
    "AGE - доля жилых домов, построенных до 1940 г.\n",
    "DIS - взвешенные расстояния до пяти центров занятости Бостона\n",
    "RAD - индекс доступности к радиальным магистралям\n",
    "TAX - полная ставка налога на имущество за 10 000 долларов США\n",
    "PTRATIO - соотношение учеников и учителей по городам\n",
    "B - 1000(Bk - 0.63)^2, где Bk доля чернокожих людей по городам\n",
    "LSTAT - % более низкого статуса населения\n",
    "MEDV - Средняя стоимость домов в 1000 долларов."
   ]
  },
  {
   "cell_type": "code",
   "execution_count": null,
   "metadata": {
    "pycharm": {
     "name": "#%%\n"
    }
   },
   "outputs": [],
   "source": []
  }
 ],
 "metadata": {
  "kernelspec": {
   "display_name": "Python 3 (ipykernel)",
   "language": "python",
   "name": "python3"
  },
  "language_info": {
   "codemirror_mode": {
    "name": "ipython",
    "version": 3
   },
   "file_extension": ".py",
   "mimetype": "text/x-python",
   "name": "python",
   "nbconvert_exporter": "python",
   "pygments_lexer": "ipython3",
   "version": "3.8.12"
  }
 },
 "nbformat": 4,
 "nbformat_minor": 4
}